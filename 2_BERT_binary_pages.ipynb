{
 "cells": [
  {
   "cell_type": "markdown",
   "id": "33a1903b-67f0-4566-b540-1f0d149d0077",
   "metadata": {},
   "source": [
    "# Using BERT to Identify Bill Hardy (Binary Classification of Pages) [WIP]"
   ]
  },
  {
   "cell_type": "markdown",
   "id": "05f5bc0b-1604-4202-a258-ff346af633cd",
   "metadata": {},
   "source": [
    "Now that K-means clustering seems to indicate that some of the narrators can be inferred from the pages, we can attempt to use a language model to predict whether a page belongs to a given narrator. \n",
    "\n",
    "Let's start with a binary classification to **predict if sentences belong or not to Bill Hardy**.\n",
    "\n",
    "<img src=\"https://glthr.com/cj/characters/bill-min.jpg\" alt=\"drawing\" width=\"400\"/>"
   ]
  },
  {
   "cell_type": "code",
   "execution_count": 1,
   "id": "a2613187-fe07-4d6d-a411-472b4f0d0c49",
   "metadata": {},
   "outputs": [],
   "source": [
    "%%capture\n",
    "\n",
    "# make logs less verbose\n",
    "import os\n",
    "\n",
    "os.environ[\"TF_CPP_MIN_LOG_LEVEL\"] = \"2\"\n",
    "\n",
    "# suppress UnparsedFlagAccessError warning\n",
    "import sys\n",
    "from absl import flags\n",
    "\n",
    "sys.argv = [\"preserve_unused_tokens=False\"]\n",
    "flags.FLAGS(sys.argv)\n",
    "\n",
    "# suppress Pandas Future Warning (deprecation of DataFrame.swapaxes)\n",
    "import warnings\n",
    "\n",
    "warnings.simplefilter(action=\"ignore\", category=FutureWarning)"
   ]
  },
  {
   "cell_type": "markdown",
   "id": "99aa2a8f-2c77-4955-ba95-78e8027b5bae",
   "metadata": {},
   "source": [
    "## Process data"
   ]
  },
  {
   "cell_type": "code",
   "execution_count": 2,
   "id": "108404f2-a14a-4dc4-af6c-5924f3c4d3b4",
   "metadata": {},
   "outputs": [],
   "source": [
    "import pandas as pd\n",
    "\n",
    "df = pd.read_json(\"./data/jawbone.json\")"
   ]
  },
  {
   "cell_type": "markdown",
   "id": "6453c0e5-bd61-407c-9023-5d788086c8fe",
   "metadata": {},
   "source": [
    "Augment the data with the label: `True` for Bill Hardy, `False` otherwise."
   ]
  },
  {
   "cell_type": "code",
   "execution_count": 3,
   "id": "83336e1a-e7ba-4b0c-b145-7751808d8ee7",
   "metadata": {},
   "outputs": [
    {
     "data": {
      "text/html": [
       "<div>\n",
       "<style scoped>\n",
       "    .dataframe tbody tr th:only-of-type {\n",
       "        vertical-align: middle;\n",
       "    }\n",
       "\n",
       "    .dataframe tbody tr th {\n",
       "        vertical-align: top;\n",
       "    }\n",
       "\n",
       "    .dataframe thead th {\n",
       "        text-align: right;\n",
       "    }\n",
       "</style>\n",
       "<table border=\"1\" class=\"dataframe\">\n",
       "  <thead>\n",
       "    <tr style=\"text-align: right;\">\n",
       "      <th></th>\n",
       "      <th>page</th>\n",
       "      <th>text</th>\n",
       "      <th>narrator</th>\n",
       "    </tr>\n",
       "  </thead>\n",
       "  <tbody>\n",
       "    <tr>\n",
       "      <th>0</th>\n",
       "      <td>1</td>\n",
       "      <td>I sit down alone at the appointed table and ta...</td>\n",
       "      <td>True</td>\n",
       "    </tr>\n",
       "    <tr>\n",
       "      <th>1</th>\n",
       "      <td>2</td>\n",
       "      <td>I plunged for the last time. The few remaining...</td>\n",
       "      <td>False</td>\n",
       "    </tr>\n",
       "    <tr>\n",
       "      <th>2</th>\n",
       "      <td>3</td>\n",
       "      <td>At my meeting with Clement yesterday, he had b...</td>\n",
       "      <td>False</td>\n",
       "    </tr>\n",
       "    <tr>\n",
       "      <th>3</th>\n",
       "      <td>4</td>\n",
       "      <td>And I really think I would have preferred the ...</td>\n",
       "      <td>True</td>\n",
       "    </tr>\n",
       "    <tr>\n",
       "      <th>4</th>\n",
       "      <td>5</td>\n",
       "      <td>I hated my eye for being caught by what didn’t...</td>\n",
       "      <td>False</td>\n",
       "    </tr>\n",
       "    <tr>\n",
       "      <th>...</th>\n",
       "      <td>...</td>\n",
       "      <td>...</td>\n",
       "      <td>...</td>\n",
       "    </tr>\n",
       "    <tr>\n",
       "      <th>95</th>\n",
       "      <td>96</td>\n",
       "      <td>Now I think I will try a cup of what they inso...</td>\n",
       "      <td>True</td>\n",
       "    </tr>\n",
       "    <tr>\n",
       "      <th>96</th>\n",
       "      <td>97</td>\n",
       "      <td>To have slept and to wake right up surrounded ...</td>\n",
       "      <td>False</td>\n",
       "    </tr>\n",
       "    <tr>\n",
       "      <th>97</th>\n",
       "      <td>98</td>\n",
       "      <td>He stood and looked down at me; but I was not ...</td>\n",
       "      <td>False</td>\n",
       "    </tr>\n",
       "    <tr>\n",
       "      <th>98</th>\n",
       "      <td>99</td>\n",
       "      <td>And she wore a mauve love-knot on her breast, ...</td>\n",
       "      <td>False</td>\n",
       "    </tr>\n",
       "    <tr>\n",
       "      <th>99</th>\n",
       "      <td>100</td>\n",
       "      <td>I dimly guess why the old dead so wanted this....</td>\n",
       "      <td>True</td>\n",
       "    </tr>\n",
       "  </tbody>\n",
       "</table>\n",
       "<p>100 rows × 3 columns</p>\n",
       "</div>"
      ],
      "text/plain": [
       "    page                                               text  narrator\n",
       "0      1  I sit down alone at the appointed table and ta...      True\n",
       "1      2  I plunged for the last time. The few remaining...     False\n",
       "2      3  At my meeting with Clement yesterday, he had b...     False\n",
       "3      4  And I really think I would have preferred the ...      True\n",
       "4      5  I hated my eye for being caught by what didn’t...     False\n",
       "..   ...                                                ...       ...\n",
       "95    96  Now I think I will try a cup of what they inso...      True\n",
       "96    97  To have slept and to wake right up surrounded ...     False\n",
       "97    98  He stood and looked down at me; but I was not ...     False\n",
       "98    99  And she wore a mauve love-knot on her breast, ...     False\n",
       "99   100  I dimly guess why the old dead so wanted this....      True\n",
       "\n",
       "[100 rows x 3 columns]"
      ]
     },
     "execution_count": 3,
     "metadata": {},
     "output_type": "execute_result"
    }
   ],
   "source": [
    "import json\n",
    "\n",
    "f = open(\"./data/unofficial_solution.json\")\n",
    "possible_solutions = json.load(f)\n",
    "f.close()\n",
    "\n",
    "\n",
    "def is_bill(id):\n",
    "    for key, ids in possible_solutions.items():\n",
    "        if id in ids:\n",
    "            return key == \"Bill Hardy\"\n",
    "    return None\n",
    "\n",
    "\n",
    "df = df.astype({\"text\": \"string\"})\n",
    "df[\"narrator\"] = df[\"page\"].apply(lambda x: is_bill(x))\n",
    "df"
   ]
  },
  {
   "cell_type": "markdown",
   "id": "6af53b8c-59f5-4077-bc2b-a7991f4a45c2",
   "metadata": {},
   "source": [
    "## Train BERT Model"
   ]
  },
  {
   "cell_type": "code",
   "execution_count": 4,
   "id": "3fee4c4e-c542-40dc-b70c-f4584ff63a20",
   "metadata": {},
   "outputs": [],
   "source": [
    "from transformers import BertTokenizer, BertForSequenceClassification, AdamW\n",
    "from transformers import logging\n",
    "\n",
    "logging.set_verbosity_error()  # suppress untrained weight error (unconsequential)\n",
    "\n",
    "# use BERT large uncased model\n",
    "# https://huggingface.co/bert-large-uncased\n",
    "tokenizer = BertTokenizer.from_pretrained(\"bert-base-uncased\")\n",
    "model = BertForSequenceClassification.from_pretrained(\"bert-base-uncased\", num_labels=1)"
   ]
  },
  {
   "cell_type": "code",
   "execution_count": 5,
   "id": "54e1db73-4020-4ddb-8f28-78e91dd2cc60",
   "metadata": {},
   "outputs": [
    {
     "name": "stdout",
     "output_type": "stream",
     "text": [
      "Train dataset size: 20\n",
      "Test dataset size: 5\n"
     ]
    }
   ],
   "source": [
    "from sklearn.model_selection import train_test_split\n",
    "\n",
    "# sample 25% of the book and ensure that at least 1/4 for the pages are related\n",
    "# to Bill Hardy\n",
    "sample_size = 0.25\n",
    "bill_count = 0\n",
    "while bill_count < (sample_size * 100) / 4:\n",
    "    df_sampled = df.sample(frac=0.25)\n",
    "    values_count = df_sampled[\"narrator\"].value_counts()\n",
    "    bill_count = 0 if not True in values_count else values_count[True]\n",
    "\n",
    "# split datasets\n",
    "train_texts, test_texts, train_labels, test_labels = train_test_split(\n",
    "    df_sampled[\"text\"].values,\n",
    "    df_sampled[\"narrator\"].values,\n",
    "    test_size=0.2,\n",
    "    random_state=42,\n",
    ")\n",
    "\n",
    "print(f\"Train dataset size: {train_texts.shape[0]}\")\n",
    "print(f\"Test dataset size: {test_texts.shape[0]}\")"
   ]
  },
  {
   "cell_type": "code",
   "execution_count": 6,
   "id": "31e2edc8-1183-4bc4-92a3-e7be116ee79d",
   "metadata": {},
   "outputs": [],
   "source": [
    "from torch.utils.data import DataLoader, Dataset\n",
    "\n",
    "\n",
    "# tokenize and prepare the input data\n",
    "class TokenizedData(Dataset):\n",
    "    def __init__(self, texts, labels, tokenizer, max_len=128):\n",
    "        self.texts = texts\n",
    "        self.labels = labels\n",
    "        self.tokenizer = tokenizer\n",
    "        self.max_len = max_len\n",
    "\n",
    "    def __len__(self):\n",
    "        return len(self.texts)\n",
    "\n",
    "    def __getitem__(self, idx):\n",
    "        text = str(self.texts[idx])\n",
    "        label = float(self.labels[idx])\n",
    "        inputs = self.tokenizer(\n",
    "            text,\n",
    "            truncation=True,\n",
    "            padding=\"max_length\",\n",
    "            max_length=self.max_len,\n",
    "            return_tensors=\"pt\",\n",
    "        )\n",
    "        return {\n",
    "            \"input_ids\": inputs[\"input_ids\"].flatten(),\n",
    "            \"attention_mask\": inputs[\"attention_mask\"].flatten(),\n",
    "            \"label\": torch.tensor(label, dtype=torch.float32),\n",
    "        }\n",
    "\n",
    "\n",
    "train_dataloader = DataLoader(\n",
    "    TokenizedData(train_texts, train_labels, tokenizer), batch_size=2, shuffle=True\n",
    ")\n",
    "val_dataloader = DataLoader(\n",
    "    TokenizedData(test_texts, test_labels, tokenizer), batch_size=2, shuffle=False\n",
    ")"
   ]
  },
  {
   "cell_type": "code",
   "execution_count": 7,
   "id": "52ca8f06-cd12-4708-8ce5-335335a921df",
   "metadata": {},
   "outputs": [
    {
     "name": "stdout",
     "output_type": "stream",
     "text": [
      "1/20 — loss: 0.6857\n",
      "2/20 — loss: 0.5948\n",
      "3/20 — loss: 0.5157\n",
      "4/20 — loss: 0.3972\n",
      "5/20 — loss: 0.2527\n",
      "6/20 — loss: 0.1576\n",
      "7/20 — loss: 0.0748\n",
      "8/20 — loss: 0.0484\n",
      "9/20 — loss: 0.0336\n",
      "10/20 — loss: 0.0247\n",
      "11/20 — loss: 0.0182\n",
      "12/20 — loss: 0.0160\n",
      "13/20 — loss: 0.0141\n",
      "14/20 — loss: 0.0117\n",
      "15/20 — loss: 0.0113\n",
      "16/20 — loss: 0.0095\n",
      "17/20 — loss: 0.0082\n",
      "18/20 — loss: 0.0080\n",
      "19/20 — loss: 0.0071\n",
      "20/20 — loss: 0.0064\n"
     ]
    }
   ],
   "source": [
    "import torch\n",
    "\n",
    "device = torch.device(\"cuda\" if torch.cuda.is_available() else \"cpu\")\n",
    "optimizer = AdamW(model.parameters(), lr=2e-5)\n",
    "criterion = torch.nn.BCEWithLogitsLoss()\n",
    "\n",
    "num_epochs = 20\n",
    "model.to(device)\n",
    "\n",
    "for epoch in range(num_epochs):\n",
    "    model.train()\n",
    "    total_loss = 0.0\n",
    "\n",
    "    for batch in train_dataloader:\n",
    "        input_ids = batch[\"input_ids\"].to(device)\n",
    "        attention_mask = batch[\"attention_mask\"].to(device)\n",
    "        labels = batch[\"label\"].squeeze().to(device)\n",
    "\n",
    "        optimizer.zero_grad()\n",
    "        outputs = model(input_ids, attention_mask=attention_mask)\n",
    "        loss = criterion(outputs.logits.flatten(), labels)\n",
    "        loss.backward()\n",
    "        optimizer.step()\n",
    "\n",
    "        total_loss += loss.item()\n",
    "\n",
    "    avg_loss = total_loss / len(train_dataloader)\n",
    "    print(f\"{epoch + 1}/{num_epochs} — loss: {avg_loss:.4f}\")"
   ]
  },
  {
   "cell_type": "markdown",
   "id": "82f9f942-4c07-41df-8bf5-ce16f7d20ce6",
   "metadata": {},
   "source": [
    "## Predict"
   ]
  },
  {
   "cell_type": "code",
   "execution_count": 8,
   "id": "3804b422-60c9-4570-9690-29eae2c0a687",
   "metadata": {},
   "outputs": [
    {
     "name": "stdout",
     "output_type": "stream",
     "text": [
      "Validation accuracy: 1.0000\n"
     ]
    }
   ],
   "source": [
    "from sklearn.metrics import accuracy_score\n",
    "\n",
    "model.eval()\n",
    "predictions = []\n",
    "true_labels = []\n",
    "\n",
    "with torch.no_grad():\n",
    "    for batch in val_dataloader:\n",
    "        input_ids = batch[\"input_ids\"].to(device)\n",
    "        attention_mask = batch[\"attention_mask\"].to(device)\n",
    "        labels = batch[\"label\"].numpy()\n",
    "\n",
    "        outputs = model(input_ids, attention_mask=attention_mask)\n",
    "        predictions.extend(outputs.logits.flatten().cpu().numpy())\n",
    "        true_labels.extend(labels)\n",
    "\n",
    "predictions = [1 if p > 0.5 else 0 for p in predictions]\n",
    "accuracy = accuracy_score(true_labels, predictions)\n",
    "\n",
    "print(f\"Validation accuracy: {accuracy:.4f}\")"
   ]
  },
  {
   "cell_type": "code",
   "execution_count": 9,
   "id": "85403823-7712-4417-9ff3-18e16abfe3db",
   "metadata": {},
   "outputs": [],
   "source": [
    "import torch\n",
    "from transformers import BertTokenizer, BertForSequenceClassification\n",
    "\n",
    "\n",
    "model.eval()\n",
    "\n",
    "inputs = tokenizer(\n",
    "    [text for text in df.text.values],\n",
    "    return_tensors=\"pt\",\n",
    "    truncation=True,\n",
    "    padding=True,\n",
    ")\n",
    "input_ids = inputs[\"input_ids\"].to(device)\n",
    "attention_mask = inputs[\"attention_mask\"].to(device)\n",
    "\n",
    "with torch.no_grad():\n",
    "    outputs = model(input_ids, attention_mask=attention_mask)\n",
    "\n",
    "probabilities = torch.sigmoid(outputs.logits).cpu().numpy()\n",
    "predicted_labels = (probabilities > 0.5).astype(int)"
   ]
  },
  {
   "cell_type": "markdown",
   "id": "506c06c4-fc4c-4bd1-9766-a1e28f0fa933",
   "metadata": {},
   "source": [
    "Confusion matrix"
   ]
  },
  {
   "cell_type": "code",
   "execution_count": 21,
   "id": "d147c3c1-7ac7-4bbc-a966-c46f6ba90b5f",
   "metadata": {},
   "outputs": [
    {
     "data": {
      "text/plain": [
       "<Figure size 800x600 with 0 Axes>"
      ]
     },
     "metadata": {},
     "output_type": "display_data"
    },
    {
     "data": {
      "image/png": "[encoded data removed]",
      "text/plain": [
       "<Figure size 640x480 with 2 Axes>"
      ]
     },
     "metadata": {},
     "output_type": "display_data"
    }
   ],
   "source": [
    "import numpy as np\n",
    "import seaborn as sns\n",
    "import matplotlib.pyplot as plt\n",
    "from sklearn.metrics import confusion_matrix, ConfusionMatrixDisplay\n",
    "\n",
    "cm = confusion_matrix(df.narrator.values, predicted_labels)\n",
    "disp = ConfusionMatrixDisplay(\n",
    "    confusion_matrix=cm, display_labels=[\"Not Bill Hardy\", \"Bill Hardy\"]\n",
    ")\n",
    "\n",
    "plt.figure(figsize=(8, 6))\n",
    "disp.plot(cmap=\"Blues\")\n",
    "\n",
    "plt.show()"
   ]
  },
  {
   "cell_type": "markdown",
   "id": "daac49f4-4ae1-4f85-907c-7192e8ce24db",
   "metadata": {},
   "source": [
    "Identify misclassified pages"
   ]
  },
  {
   "cell_type": "code",
   "execution_count": 22,
   "id": "95cebd7a-a532-4a6c-bcda-4a96c8d807be",
   "metadata": {},
   "outputs": [
    {
     "name": "stdout",
     "output_type": "stream",
     "text": [
      "Misclassified Sentences:\n"
     ]
    }
   ],
   "source": [
    "misclassified_indices = [\n",
    "    i\n",
    "    for i, (true, pred) in enumerate(zip(df.narrator.values, predicted_labels))\n",
    "    if true != pred\n",
    "]\n",
    "\n",
    "print(\"Misclassified Sentences:\")\n",
    "for index in misclassified_indices:\n",
    "    print(\n",
    "        f\"True Label: {int(df.narrator.values[index])} — predicted Label: {predicted_labels[index][0]} — text: {df.text.values[index]}\"\n",
    "    )\n",
    "    print()"
   ]
  }
 ],
 "metadata": {
  "kernelspec": {
   "display_name": "Python 3 (ipykernel)",
   "language": "python",
   "name": "python3"
  },
  "language_info": {
   "codemirror_mode": {
    "name": "ipython",
    "version": 3
   },
   "file_extension": ".py",
   "mimetype": "text/x-python",
   "name": "python",
   "nbconvert_exporter": "python",
   "pygments_lexer": "ipython3",
   "version": "3.11.5"
  }
 },
 "nbformat": 4,
 "nbformat_minor": 5
}
