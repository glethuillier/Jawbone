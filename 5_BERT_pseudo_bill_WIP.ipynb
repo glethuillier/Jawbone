{
 "cells": [
  {
   "cell_type": "code",
   "execution_count": 1,
   "id": "c2c8714c-52eb-4434-833f-5aea0298fd12",
   "metadata": {},
   "outputs": [],
   "source": [
    "from transformers import BertTokenizer, BertForSequenceClassification\n",
    "from transformers import logging\n",
    "\n",
    "logging.set_verbosity_error()  # suppress untrained weight error (unconsequential)\n",
    "\n",
    "# use BERT base uncased model\n",
    "# https://huggingface.co/bert-base-uncased\n",
    "tokenizer = BertTokenizer.from_pretrained(\"bert-base-uncased\")\n",
    "model = BertForSequenceClassification.from_pretrained(\"bert-base-uncased\", num_labels=1)"
   ]
  },
  {
   "cell_type": "code",
   "execution_count": 2,
   "id": "846815a4-4a69-440c-8dac-963896e58d03",
   "metadata": {},
   "outputs": [],
   "source": [
    "import matplotlib.pyplot as plt\n",
    "import numpy as np\n",
    "\n",
    "\n",
    "def show_predictions(predictions):\n",
    "    percentage_0 = (np.count_nonzero(predictions == 0) / len(predictions)) * 100\n",
    "    percentage_1 = (np.count_nonzero(predictions == 1) / len(predictions)) * 100\n",
    "\n",
    "    labels = [\"0\", \"1\"]\n",
    "    percentages = [percentage_0, percentage_1]\n",
    "\n",
    "    plt.bar(labels, percentages, color=[\"red\", \"blue\"])\n",
    "    plt.xlabel(\"Predictions\")\n",
    "    plt.ylabel(\"Percentage\")\n",
    "\n",
    "    plt.show()"
   ]
  },
  {
   "cell_type": "code",
   "execution_count": 3,
   "id": "dca6ddfb-bfe1-4a83-beb9-83942dc6ade4",
   "metadata": {},
   "outputs": [],
   "source": [
    "def eval(model, texts):\n",
    "    model.eval()\n",
    "\n",
    "    inputs = tokenizer(\n",
    "        [text for text in texts],\n",
    "        return_tensors=\"pt\",\n",
    "        truncation=True,\n",
    "        padding=True,\n",
    "    )\n",
    "    input_ids = inputs[\"input_ids\"]\n",
    "    attention_mask = inputs[\"attention_mask\"]\n",
    "\n",
    "    with torch.no_grad():\n",
    "        outputs = model(input_ids, attention_mask=attention_mask)\n",
    "\n",
    "    probabilities = torch.sigmoid(outputs.logits).cpu().numpy()\n",
    "    predicted_labels = (probabilities > 0.5).astype(int).flatten()\n",
    "\n",
    "    return predicted_labels"
   ]
  },
  {
   "cell_type": "code",
   "execution_count": 4,
   "id": "72f78533-3a31-4d5b-af1e-082b7874a8f9",
   "metadata": {},
   "outputs": [],
   "source": [
    "import torch\n",
    "\n",
    "\n",
    "try:\n",
    "    model.load_state_dict(torch.load(\"bill_hardy.pt\"))\n",
    "except:\n",
    "    print(\n",
    "        \"Model not found; please train it using `2_BERT_binary_classification_bill.ipynb`\"\n",
    "    )\n",
    "    raise"
   ]
  },
  {
   "cell_type": "markdown",
   "id": "48bcf589-01fa-4ca9-ac29-4c66cf928616",
   "metadata": {},
   "source": [
    "Generate datasets:\n",
    "* Corpus 1: texts from narrators other than Bill Hardy and converted into the present tense\n",
    "* Corpus 2: texts from Bill Hardy and converted into the past sense"
   ]
  },
  {
   "cell_type": "code",
   "execution_count": 5,
   "id": "6ba57fce-5540-4e87-8d4b-34151c6e2943",
   "metadata": {},
   "outputs": [],
   "source": [
    "# the first corpus contains texts belonging to narrators other than Bill Hardy and\n",
    "# that have been transformed to use the present tense instead of the past tense\n",
    "corpus_1 = [\n",
    "    \"I plunge for the last time. The few remaining figures and letters swim as they come up to me. Then I take them in. There are no more. I glance about me. I feel I am getting my money’s worth. London is like that; it accepts the wanderer home with a sort of warm indifference. The woman’s beauty is, I surmise, profound; her creamy dress, contrasting with her vivid colouring, shows to me, though more as white against a gay brick sepulchre than snow against roses. Yes it is a dreadful beauty, as far as I can see, and I recall the stark phrases: Which swept an hundred thousand souls away; yet I alive. But he was not; the writer had strangely died today. And again they continued this wretched course three or four days: but they were every one of them carried into the great pit before it was quite filled up. Where is Henry? Ah, he is standing by her, close enough to touch the small buoyant face that topped her pillared neck most like a bell-flower on its bed. Would he appreciate?\",\n",
    "    \"Of course I am sorry to say good-bye to old Medehamstede; but it is pleasant to sit down and to really find myself alone at last. Those emotional times were trying to us all. I feel that my lips are paler than I like; but a touch of Pasquier’s claret soon puts me right. Dear old Pasquier, I have come across him in Paris, at that little place in the Rue de la Harpe, a street in which, I have been told, there was a touch of orderly room even in the disorderly houses. I open a magazine and look hastily through the last paragraphs of the short stories. I am all for love; but fading out on an embrace never appealed to me. The embrace in my short stories—and my life is all short stories, I have come to think—occurs in the first few words. And afterwards the plot. The complete novel length looks better. It is called Savage Conqueror, and I like that.\"\n",
    "]"
   ]
  },
  {
   "cell_type": "code",
   "execution_count": 6,
   "id": "8f54a2b6-ad8e-40f6-9fe0-12fae8df4e98",
   "metadata": {},
   "outputs": [
    {
     "name": "stdout",
     "output_type": "stream",
     "text": [
      "[1 1]\n"
     ]
    }
   ],
   "source": [
    "predicted_labels = eval(model, corpus_1)\n",
    "print(predicted_labels)"
   ]
  },
  {
   "cell_type": "code",
   "execution_count": 7,
   "id": "b5692b72-58a1-4c0e-983e-186c3714e259",
   "metadata": {},
   "outputs": [
    {
     "data": {
      "image/png": "[encoded data removed]",
      "text/plain": [
       "<Figure size 640x480 with 1 Axes>"
      ]
     },
     "metadata": {},
     "output_type": "display_data"
    }
   ],
   "source": [
    "show_predictions(predicted_labels)"
   ]
  }
 ],
 "metadata": {
  "kernelspec": {
   "display_name": "Python 3 (ipykernel)",
   "language": "python",
   "name": "python3"
  },
  "language_info": {
   "codemirror_mode": {
    "name": "ipython",
    "version": 3
   },
   "file_extension": ".py",
   "mimetype": "text/x-python",
   "name": "python",
   "nbconvert_exporter": "python",
   "pygments_lexer": "ipython3",
   "version": "3.11.5"
  }
 },
 "nbformat": 4,
 "nbformat_minor": 5
}
