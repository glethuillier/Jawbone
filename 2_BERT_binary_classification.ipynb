{
 "cells": [
  {
   "cell_type": "markdown",
   "id": "33a1903b-67f0-4566-b540-1f0d149d0077",
   "metadata": {},
   "source": [
    "# Using BERT to Identify Bill Hardy (Binary Classification)"
   ]
  },
  {
   "cell_type": "markdown",
   "id": "e2f54ea4-9f0f-4902-b96e-cf11757c6c48",
   "metadata": {},
   "source": [
    "## Classification of the Pages"
   ]
  },
  {
   "cell_type": "markdown",
   "id": "05f5bc0b-1604-4202-a258-ff346af633cd",
   "metadata": {},
   "source": [
    "[K-means clustering seems to indicate that some narrators can be inferred from the pages](./1_k-means.ipynb). \n",
    "\n",
    "To test this hypothesis, supervised learning will be used to classify the pages.\n",
    "\n",
    "**Bill Hardy**, whose pages where clustered together, is a good candidate for this binary classification.\n",
    "\n",
    "<img src=\"https://glthr.com/cj/characters/bill-min.jpg\" alt=\"drawing\" width=\"400\"/>"
   ]
  },
  {
   "cell_type": "code",
   "execution_count": 1,
   "id": "a2613187-fe07-4d6d-a411-472b4f0d0c49",
   "metadata": {},
   "outputs": [],
   "source": [
    "%%capture\n",
    "\n",
    "# make logs less verbose\n",
    "import os\n",
    "\n",
    "os.environ[\"TF_CPP_MIN_LOG_LEVEL\"] = \"2\"\n",
    "\n",
    "# suppress UnparsedFlagAccessError warning\n",
    "import sys\n",
    "from absl import flags\n",
    "\n",
    "sys.argv = [\"preserve_unused_tokens=False\"]\n",
    "flags.FLAGS(sys.argv)\n",
    "\n",
    "# suppress warnings\n",
    "# (after having ensured they did not impact the analysis)\n",
    "import warnings\n",
    "\n",
    "warnings.filterwarnings(\"ignore\")"
   ]
  },
  {
   "cell_type": "markdown",
   "id": "99aa2a8f-2c77-4955-ba95-78e8027b5bae",
   "metadata": {},
   "source": [
    "## Process data"
   ]
  },
  {
   "cell_type": "code",
   "execution_count": 2,
   "id": "108404f2-a14a-4dc4-af6c-5924f3c4d3b4",
   "metadata": {},
   "outputs": [],
   "source": [
    "import pandas as pd\n",
    "\n",
    "df = pd.read_json(\"./data/jawbone.json\")"
   ]
  },
  {
   "cell_type": "markdown",
   "id": "6453c0e5-bd61-407c-9023-5d788086c8fe",
   "metadata": {},
   "source": [
    "Augment the data with the label: `True` for Bill Hardy, `False` otherwise."
   ]
  },
  {
   "cell_type": "code",
   "execution_count": 3,
   "id": "34e4b0e5-aadc-435d-b344-0a711ad52c71",
   "metadata": {},
   "outputs": [
    {
     "data": {
      "text/html": [
       "<div>\n",
       "<style scoped>\n",
       "    .dataframe tbody tr th:only-of-type {\n",
       "        vertical-align: middle;\n",
       "    }\n",
       "\n",
       "    .dataframe tbody tr th {\n",
       "        vertical-align: top;\n",
       "    }\n",
       "\n",
       "    .dataframe thead th {\n",
       "        text-align: right;\n",
       "    }\n",
       "</style>\n",
       "<table border=\"1\" class=\"dataframe\">\n",
       "  <thead>\n",
       "    <tr style=\"text-align: right;\">\n",
       "      <th></th>\n",
       "      <th>page</th>\n",
       "      <th>text</th>\n",
       "      <th>is_Bill</th>\n",
       "    </tr>\n",
       "  </thead>\n",
       "  <tbody>\n",
       "    <tr>\n",
       "      <th>0</th>\n",
       "      <td>1</td>\n",
       "      <td>I sit down alone at the appointed table and ta...</td>\n",
       "      <td>True</td>\n",
       "    </tr>\n",
       "    <tr>\n",
       "      <th>1</th>\n",
       "      <td>2</td>\n",
       "      <td>I plunged for the last time. The few remaining...</td>\n",
       "      <td>False</td>\n",
       "    </tr>\n",
       "    <tr>\n",
       "      <th>2</th>\n",
       "      <td>3</td>\n",
       "      <td>At my meeting with Clement yesterday, he had b...</td>\n",
       "      <td>False</td>\n",
       "    </tr>\n",
       "    <tr>\n",
       "      <th>3</th>\n",
       "      <td>4</td>\n",
       "      <td>And I really think I would have preferred the ...</td>\n",
       "      <td>True</td>\n",
       "    </tr>\n",
       "    <tr>\n",
       "      <th>4</th>\n",
       "      <td>5</td>\n",
       "      <td>I hated my eye for being caught by what didn’t...</td>\n",
       "      <td>False</td>\n",
       "    </tr>\n",
       "    <tr>\n",
       "      <th>...</th>\n",
       "      <td>...</td>\n",
       "      <td>...</td>\n",
       "      <td>...</td>\n",
       "    </tr>\n",
       "    <tr>\n",
       "      <th>95</th>\n",
       "      <td>96</td>\n",
       "      <td>Now I think I will try a cup of what they inso...</td>\n",
       "      <td>True</td>\n",
       "    </tr>\n",
       "    <tr>\n",
       "      <th>96</th>\n",
       "      <td>97</td>\n",
       "      <td>To have slept and to wake right up surrounded ...</td>\n",
       "      <td>False</td>\n",
       "    </tr>\n",
       "    <tr>\n",
       "      <th>97</th>\n",
       "      <td>98</td>\n",
       "      <td>He stood and looked down at me; but I was not ...</td>\n",
       "      <td>False</td>\n",
       "    </tr>\n",
       "    <tr>\n",
       "      <th>98</th>\n",
       "      <td>99</td>\n",
       "      <td>And she wore a mauve love-knot on her breast, ...</td>\n",
       "      <td>False</td>\n",
       "    </tr>\n",
       "    <tr>\n",
       "      <th>99</th>\n",
       "      <td>100</td>\n",
       "      <td>I dimly guess why the old dead so wanted this....</td>\n",
       "      <td>True</td>\n",
       "    </tr>\n",
       "  </tbody>\n",
       "</table>\n",
       "<p>100 rows × 3 columns</p>\n",
       "</div>"
      ],
      "text/plain": [
       "    page                                               text  is_Bill\n",
       "0      1  I sit down alone at the appointed table and ta...     True\n",
       "1      2  I plunged for the last time. The few remaining...    False\n",
       "2      3  At my meeting with Clement yesterday, he had b...    False\n",
       "3      4  And I really think I would have preferred the ...     True\n",
       "4      5  I hated my eye for being caught by what didn’t...    False\n",
       "..   ...                                                ...      ...\n",
       "95    96  Now I think I will try a cup of what they inso...     True\n",
       "96    97  To have slept and to wake right up surrounded ...    False\n",
       "97    98  He stood and looked down at me; but I was not ...    False\n",
       "98    99  And she wore a mauve love-knot on her breast, ...    False\n",
       "99   100  I dimly guess why the old dead so wanted this....     True\n",
       "\n",
       "[100 rows x 3 columns]"
      ]
     },
     "execution_count": 3,
     "metadata": {},
     "output_type": "execute_result"
    }
   ],
   "source": [
    "import json\n",
    "\n",
    "f = open(\"./data/unofficial_solution.json\")\n",
    "possible_solutions = json.load(f)\n",
    "f.close()\n",
    "\n",
    "\n",
    "def is_bill(id):\n",
    "    for key, ids in possible_solutions.items():\n",
    "        if id in ids:\n",
    "            return key == \"Bill Hardy\"\n",
    "    return None\n",
    "\n",
    "\n",
    "df = df.astype({\"text\": \"string\"})\n",
    "df[\"is_Bill\"] = df[\"page\"].apply(lambda x: is_bill(x))\n",
    "df"
   ]
  },
  {
   "cell_type": "code",
   "execution_count": 4,
   "id": "e8719fab-080d-4e51-82ec-05aa69ede00f",
   "metadata": {},
   "outputs": [
    {
     "data": {
      "text/html": [
       "<div>\n",
       "<style scoped>\n",
       "    .dataframe tbody tr th:only-of-type {\n",
       "        vertical-align: middle;\n",
       "    }\n",
       "\n",
       "    .dataframe tbody tr th {\n",
       "        vertical-align: top;\n",
       "    }\n",
       "\n",
       "    .dataframe thead th {\n",
       "        text-align: right;\n",
       "    }\n",
       "</style>\n",
       "<table border=\"1\" class=\"dataframe\">\n",
       "  <thead>\n",
       "    <tr style=\"text-align: right;\">\n",
       "      <th></th>\n",
       "      <th>page</th>\n",
       "      <th>text</th>\n",
       "      <th>is_Bill</th>\n",
       "    </tr>\n",
       "  </thead>\n",
       "  <tbody>\n",
       "    <tr>\n",
       "      <th>0</th>\n",
       "      <td>1</td>\n",
       "      <td>I sit down alone at the appointed table and ta...</td>\n",
       "      <td>True</td>\n",
       "    </tr>\n",
       "    <tr>\n",
       "      <th>1</th>\n",
       "      <td>2</td>\n",
       "      <td>I plunged for the last time. The few remaining...</td>\n",
       "      <td>False</td>\n",
       "    </tr>\n",
       "    <tr>\n",
       "      <th>2</th>\n",
       "      <td>3</td>\n",
       "      <td>At my meeting with Clement yesterday, he had b...</td>\n",
       "      <td>False</td>\n",
       "    </tr>\n",
       "    <tr>\n",
       "      <th>3</th>\n",
       "      <td>4</td>\n",
       "      <td>And I really think I would have preferred the ...</td>\n",
       "      <td>True</td>\n",
       "    </tr>\n",
       "    <tr>\n",
       "      <th>4</th>\n",
       "      <td>5</td>\n",
       "      <td>I hated my eye for being caught by what didn’t...</td>\n",
       "      <td>False</td>\n",
       "    </tr>\n",
       "    <tr>\n",
       "      <th>...</th>\n",
       "      <td>...</td>\n",
       "      <td>...</td>\n",
       "      <td>...</td>\n",
       "    </tr>\n",
       "    <tr>\n",
       "      <th>95</th>\n",
       "      <td>96</td>\n",
       "      <td>Now I think I will try a cup of what they inso...</td>\n",
       "      <td>True</td>\n",
       "    </tr>\n",
       "    <tr>\n",
       "      <th>96</th>\n",
       "      <td>97</td>\n",
       "      <td>To have slept and to wake right up surrounded ...</td>\n",
       "      <td>False</td>\n",
       "    </tr>\n",
       "    <tr>\n",
       "      <th>97</th>\n",
       "      <td>98</td>\n",
       "      <td>He stood and looked down at me; but I was not ...</td>\n",
       "      <td>False</td>\n",
       "    </tr>\n",
       "    <tr>\n",
       "      <th>98</th>\n",
       "      <td>99</td>\n",
       "      <td>And she wore a mauve love-knot on her breast, ...</td>\n",
       "      <td>False</td>\n",
       "    </tr>\n",
       "    <tr>\n",
       "      <th>99</th>\n",
       "      <td>100</td>\n",
       "      <td>I dimly guess why the old dead so wanted this....</td>\n",
       "      <td>True</td>\n",
       "    </tr>\n",
       "  </tbody>\n",
       "</table>\n",
       "<p>100 rows × 3 columns</p>\n",
       "</div>"
      ],
      "text/plain": [
       "    page                                               text  is_Bill\n",
       "0      1  I sit down alone at the appointed table and ta...     True\n",
       "1      2  I plunged for the last time. The few remaining...    False\n",
       "2      3  At my meeting with Clement yesterday, he had b...    False\n",
       "3      4  And I really think I would have preferred the ...     True\n",
       "4      5  I hated my eye for being caught by what didn’t...    False\n",
       "..   ...                                                ...      ...\n",
       "95    96  Now I think I will try a cup of what they inso...     True\n",
       "96    97  To have slept and to wake right up surrounded ...    False\n",
       "97    98  He stood and looked down at me; but I was not ...    False\n",
       "98    99  And she wore a mauve love-knot on her breast, ...    False\n",
       "99   100  I dimly guess why the old dead so wanted this....     True\n",
       "\n",
       "[100 rows x 3 columns]"
      ]
     },
     "execution_count": 4,
     "metadata": {},
     "output_type": "execute_result"
    }
   ],
   "source": [
    "# \"modernize\" the writing\n",
    "vocabulary = {\n",
    "    \"to-day\": \"today\",\n",
    "    \"for ever\": \"forever\",\n",
    "    \"any more\": \"anymore\",\n",
    "    \"skilful\": \"skillful\",\n",
    "    \"bell-flower\": \"bellflower\",\n",
    "    \"rain-proof\": \"rainproof\",\n",
    "    \"good-bye\": \"goodbye\",\n",
    "    \"to-night\": \"tonight\",\n",
    "    \"parti-panties\": \"party-panties\",\n",
    "    \"spare-room\": \"spare room\",\n",
    "    \"long seed\": \"long-seed\",\n",
    "    \"finger-tips\": \"fingertips\",\n",
    "    \"market place\": \"marketplace\",\n",
    "    \"match box\": \"matchbox\",\n",
    "    \"spare-room\": \"spare room\",\n",
    "    \"grape vine\": \"grapevine\",\n",
    "    \"gold-leaf\": \"gold leaf\",\n",
    "    \"motor boat\": \"motorboat\",\n",
    "    \"May be\": \"Maybe\",\n",
    "    \"salt-cellar\": \"salt cellar\",\n",
    "    \"every one\": \"everyone\",\n",
    "}\n",
    "\n",
    "for old, new in vocabulary.items():\n",
    "    df[\"text\"] = df[\"text\"].str.replace(old, new)\n",
    "\n",
    "df"
   ]
  },
  {
   "cell_type": "markdown",
   "id": "e5a39083-36ff-4205-86cf-9b45ee6f1ea8",
   "metadata": {},
   "source": [
    "Combining the pages and the suggested solution results in a series of numbered pages with a boolean label indicating whether they belong to Bill Hardy. \n",
    "\n",
    "The data is now labeled."
   ]
  },
  {
   "cell_type": "markdown",
   "id": "6af53b8c-59f5-4077-bc2b-a7991f4a45c2",
   "metadata": {},
   "source": [
    "## Train BERT Model"
   ]
  },
  {
   "cell_type": "markdown",
   "id": "d427fb78-c405-46c5-86cc-03823d4a8d2c",
   "metadata": {},
   "source": [
    "BERT (Bidirectional Encoder Representations from Transformers) can  be used to classify the pages.\n",
    "\n",
    "The goal is to train the model on a subset of the pages belonging to Bill Hardy and pages belonging to one of the other seven narrators.\n",
    "\n",
    "Empirically, [BERT<sub>BASE</sub> uncased](https://huggingface.co/bert-base-uncased) has appeared suitable for this purpose."
   ]
  },
  {
   "cell_type": "code",
   "execution_count": 5,
   "id": "3fee4c4e-c542-40dc-b70c-f4584ff63a20",
   "metadata": {},
   "outputs": [],
   "source": [
    "from transformers import BertTokenizer, BertForSequenceClassification\n",
    "from transformers import logging\n",
    "\n",
    "logging.set_verbosity_error()  # suppress untrained weight error (unconsequential)\n",
    "\n",
    "# use BERT large uncased model\n",
    "# https://huggingface.co/bert-large-uncased\n",
    "tokenizer = BertTokenizer.from_pretrained(\"bert-base-uncased\")\n",
    "bert_model = BertForSequenceClassification.from_pretrained(\n",
    "    \"bert-base-uncased\", num_labels=1\n",
    ")"
   ]
  },
  {
   "cell_type": "markdown",
   "id": "1e70306d-1eb4-4a7e-8634-d53e6480477f",
   "metadata": {},
   "source": [
    "Experimenting with different hyperparameters indicates a good balance between accuracy and training performance can be achieved with a learning rate of 2 × 10<sup>-5</sup> and 20 learning epochs. "
   ]
  },
  {
   "cell_type": "code",
   "execution_count": 6,
   "id": "aa06971b-697f-47ba-a3b3-cf890f558e47",
   "metadata": {},
   "outputs": [],
   "source": [
    "import torch\n",
    "\n",
    "# hyperparameters\n",
    "\n",
    "num_epochs = 20\n",
    "learning_rate = 2e-5\n",
    "device = torch.device(\"cuda\" if torch.cuda.is_available() else \"cpu\")"
   ]
  },
  {
   "cell_type": "markdown",
   "id": "a425a9e8-cd38-4657-8868-cf5eb60b6af3",
   "metadata": {},
   "source": [
    "The book is sampled for training and testing in the following proportion:\n",
    "\n",
    "* **4 Bill Hardy pages**, and\n",
    "* **25 pages from other narrators**\n",
    "\n",
    "The size of the test dataset is 20% of the sampled subset of the book.\n",
    "\n",
    "Therefore, **a little bit less than 30% of the book is used for training and testing**. Lower proportions significantly decrease the accuracy of the model. "
   ]
  },
  {
   "cell_type": "code",
   "execution_count": 7,
   "id": "54e1db73-4020-4ddb-8f28-78e91dd2cc60",
   "metadata": {},
   "outputs": [
    {
     "name": "stdout",
     "output_type": "stream",
     "text": [
      "    page                                               text  is_Bill\n",
      "3      4  And I really think I would have preferred the ...     True\n",
      "99   100  I dimly guess why the old dead so wanted this....     True\n",
      "46    47  Babs now moves across the vision, crowned with...     True\n",
      "22    23  I hate seeing things like this in the paper. B...     True\n",
      "31    32  I was a little consoled for the weeping weathe...    False\n",
      "74    75  I saw to it that I should be for a moment alon...    False\n",
      "45    46  In one way, of course, I was glad they were ma...    False\n",
      "21    22  He always talked to me about murder, when we w...    False\n",
      "49    50  The swallow, the bright Homonoea.I wondered if...    False\n",
      "26    27  I had seen, day after day, every sunlit or nig...    False\n",
      "73    74  photographs of young and laughing athletes, la...    False\n",
      "50    51  As I was not staying, but only passing through...    False\n",
      "75    76  Looking over at the sly sideways smile which s...    False\n",
      "82    83  A flower-seller, fed ruddily, it seemed, on ho...    False\n",
      "39    40  What chemistry! That the winds are really not ...    False\n",
      "43    44  I sometimes wish, and I wished then, that I ha...    False\n",
      "76    77  Compact, they call it; but when I used it, I w...    False\n",
      "28    29  It had always been my habit to rise with the l...    False\n",
      "40    41  And then with horrid clearness I had seen a wo...    False\n",
      "44    45  It was when that half Pole, half Frenchman, an...    False\n",
      "24    25  After I might just as easily have been a liter...    False\n",
      "12    13      Rintrah, where has thou hid thy bride?    ...    False\n",
      "66    67  the darker works of Beardsley and Felicien Rop...    False\n",
      "68    69  I came out of my waking dream with temples moi...    False\n",
      "93    94  Naturally I looked up. And I tell you I found ...    False\n",
      "25    26  The girl had left Henry by this time, thank Go...    False\n",
      "60    61  I had always been proud of my namesake, the Gr...    False\n",
      "57    58  Considering it was my name month, I wasn’t hav...    False\n",
      "18    19  Yesterday he got in another of his own kind, w...    False\n",
      "Train dataset size: 23\n",
      "Test dataset size: 6\n"
     ]
    }
   ],
   "source": [
    "from sklearn.model_selection import train_test_split\n",
    "\n",
    "\n",
    "def get_datasets(df):\n",
    "    # sample 40% of the Bill pages/sentences and 25% of all pages/sentences\n",
    "    df_bill = df[df[\"is_Bill\"] == True].sample(frac=0.3)\n",
    "    df_not_bill = df[df[\"is_Bill\"] == False].sample(frac=0.28)\n",
    "\n",
    "    df_sampled = pd.concat([df_bill, df_not_bill], axis=0)\n",
    "\n",
    "    print(df_sampled)\n",
    "\n",
    "    # split datasets\n",
    "    return train_test_split(\n",
    "        df_sampled[\"text\"].values,\n",
    "        df_sampled[\"is_Bill\"].values,\n",
    "        test_size=0.2,\n",
    "        random_state=42,\n",
    "    )\n",
    "\n",
    "\n",
    "train_texts, test_texts, train_labels, test_labels = get_datasets(df)\n",
    "\n",
    "print(f\"Train dataset size: {train_texts.shape[0]}\")\n",
    "print(f\"Test dataset size: {test_texts.shape[0]}\")"
   ]
  },
  {
   "cell_type": "code",
   "execution_count": 8,
   "id": "31e2edc8-1183-4bc4-92a3-e7be116ee79d",
   "metadata": {},
   "outputs": [],
   "source": [
    "from torch.utils.data import DataLoader, Dataset\n",
    "\n",
    "\n",
    "# tokenize and prepare the input data\n",
    "class TokenizedData(Dataset):\n",
    "    def __init__(self, texts, labels, tokenizer, max_len=128):\n",
    "        self.texts = texts\n",
    "        self.labels = labels\n",
    "        self.tokenizer = tokenizer\n",
    "        self.max_len = max_len\n",
    "\n",
    "    def __len__(self):\n",
    "        return len(self.texts)\n",
    "\n",
    "    def __getitem__(self, idx):\n",
    "        text = str(self.texts[idx])\n",
    "        label = float(self.labels[idx])\n",
    "        inputs = self.tokenizer(\n",
    "            text,\n",
    "            truncation=True,\n",
    "            padding=\"max_length\",\n",
    "            max_length=self.max_len,\n",
    "            return_tensors=\"pt\",\n",
    "        )\n",
    "        return {\n",
    "            \"input_ids\": inputs[\"input_ids\"].flatten(),\n",
    "            \"attention_mask\": inputs[\"attention_mask\"].flatten(),\n",
    "            \"label\": torch.tensor(label, dtype=torch.float32),\n",
    "        }\n",
    "\n",
    "\n",
    "# important: set a large max_len for the pages\n",
    "train_dataloader = DataLoader(\n",
    "    TokenizedData(train_texts, train_labels, tokenizer, max_len=256),\n",
    "    batch_size=3,\n",
    "    shuffle=True,\n",
    ")\n",
    "test_dataloader = DataLoader(\n",
    "    TokenizedData(test_texts, test_labels, tokenizer, max_len=256),\n",
    "    batch_size=3,\n",
    "    shuffle=False,\n",
    ")"
   ]
  },
  {
   "cell_type": "markdown",
   "id": "9edcc571-8910-4640-8b4c-f2c7a9115a13",
   "metadata": {},
   "source": [
    "The single output layer neuron produces a raw output for training the model (*e.g.*, `-2.0986`, `0.3608`). Therefore, to compute the loss, it must be wrapped (typically with a sigmoid). PyTorch’s `BCEWithLogitsLoss` is used instead as it is *“more numerically stable than using a plain Sigmoid followed by a BCELoss as, by combining the operations into one layer, we take advantage of the log-sum-exp trick for numerical stability.”* ([source](https://pytorch.org/docs/stable/generated/torch.nn.BCEWithLogitsLoss.html))"
   ]
  },
  {
   "cell_type": "code",
   "execution_count": 9,
   "id": "52ca8f06-cd12-4708-8ce5-335335a921df",
   "metadata": {},
   "outputs": [
    {
     "name": "stdout",
     "output_type": "stream",
     "text": [
      "1/20 — loss: 0.6541\n",
      "2/20 — loss: 0.4976\n",
      "3/20 — loss: 0.4327\n",
      "4/20 — loss: 0.3693\n",
      "5/20 — loss: 0.3401\n",
      "6/20 — loss: 0.2532\n",
      "7/20 — loss: 0.1665\n",
      "8/20 — loss: 0.1220\n",
      "9/20 — loss: 0.0720\n",
      "10/20 — loss: 0.0469\n",
      "11/20 — loss: 0.0316\n",
      "12/20 — loss: 0.0224\n",
      "13/20 — loss: 0.0160\n",
      "14/20 — loss: 0.0124\n",
      "15/20 — loss: 0.0108\n",
      "16/20 — loss: 0.0092\n",
      "17/20 — loss: 0.0088\n",
      "18/20 — loss: 0.0077\n",
      "19/20 — loss: 0.0070\n",
      "20/20 — loss: 0.0061\n"
     ]
    }
   ],
   "source": [
    "from transformers import AdamW\n",
    "import copy\n",
    "\n",
    "\n",
    "def train(dataloader):\n",
    "    model = copy.copy(bert_model)\n",
    "    criterion = torch.nn.BCEWithLogitsLoss()\n",
    "    optimizer = AdamW(model.parameters(), lr=learning_rate)\n",
    "\n",
    "    model.to(device)\n",
    "\n",
    "    for epoch in range(num_epochs):\n",
    "        model.train()\n",
    "        total_loss = 0.0\n",
    "\n",
    "        for batch in dataloader:\n",
    "            input_ids = batch[\"input_ids\"].to(device)\n",
    "            attention_mask = batch[\"attention_mask\"].to(device)\n",
    "            labels = batch[\"label\"].squeeze().to(device)\n",
    "\n",
    "            optimizer.zero_grad()\n",
    "            outputs = model(input_ids, attention_mask=attention_mask)\n",
    "            loss = criterion(outputs.logits.flatten(), labels)\n",
    "            loss.backward()\n",
    "            optimizer.step()\n",
    "\n",
    "            total_loss += loss.item()\n",
    "\n",
    "        avg_loss = total_loss / len(dataloader)\n",
    "        print(f\"{epoch + 1}/{num_epochs} — loss: {avg_loss:.4f}\")\n",
    "\n",
    "    return model\n",
    "\n",
    "\n",
    "model = train(train_dataloader)"
   ]
  },
  {
   "cell_type": "markdown",
   "id": "82f9f942-4c07-41df-8bf5-ce16f7d20ce6",
   "metadata": {},
   "source": [
    "## Prediction"
   ]
  },
  {
   "cell_type": "code",
   "execution_count": 10,
   "id": "3804b422-60c9-4570-9690-29eae2c0a687",
   "metadata": {},
   "outputs": [],
   "source": [
    "from sklearn.metrics import accuracy_score\n",
    "\n",
    "\n",
    "def eval(model, texts):\n",
    "    model.eval()\n",
    "\n",
    "    inputs = tokenizer(\n",
    "        [text for text in texts],\n",
    "        return_tensors=\"pt\",\n",
    "        truncation=True,\n",
    "        padding=True,\n",
    "    )\n",
    "    input_ids = inputs[\"input_ids\"].to(device)\n",
    "    attention_mask = inputs[\"attention_mask\"].to(device)\n",
    "\n",
    "    with torch.no_grad():\n",
    "        outputs = model(input_ids, attention_mask=attention_mask)\n",
    "\n",
    "    probabilities = torch.sigmoid(outputs.logits).cpu().numpy()\n",
    "    predicted_labels = (probabilities > 0.5).astype(int)\n",
    "\n",
    "    return predicted_labels"
   ]
  },
  {
   "cell_type": "code",
   "execution_count": 11,
   "id": "c53358b1-9203-4080-a4e1-051c374a1b85",
   "metadata": {},
   "outputs": [
    {
     "name": "stdout",
     "output_type": "stream",
     "text": [
      "Test accuracy: 1.0000\n"
     ]
    }
   ],
   "source": [
    "predictions = eval(model, test_texts)\n",
    "accuracy = accuracy_score(test_labels, predictions)\n",
    "print(f\"Test accuracy: {accuracy:.4f}\")"
   ]
  },
  {
   "cell_type": "markdown",
   "id": "3ed34037-e750-4211-84a2-7187f26f4e2f",
   "metadata": {},
   "source": [
    "The model's accuracy is acceptable (typically between 90% and 100%). Consequently, the labels can be predicted for *all* book pages (`df.text.values`)."
   ]
  },
  {
   "cell_type": "code",
   "execution_count": 12,
   "id": "52edf0b0-95e5-45a4-9bd0-7c6b9d249d5f",
   "metadata": {},
   "outputs": [],
   "source": [
    "predicted_labels = eval(model, df.text.values)"
   ]
  },
  {
   "cell_type": "code",
   "execution_count": 13,
   "id": "d147c3c1-7ac7-4bbc-a966-c46f6ba90b5f",
   "metadata": {},
   "outputs": [
    {
     "data": {
      "text/plain": [
       "<Figure size 800x600 with 0 Axes>"
      ]
     },
     "metadata": {},
     "output_type": "display_data"
    },
    {
     "data": {
      "image/png": "[encoded data removed]",
      "text/plain": [
       "<Figure size 640x480 with 2 Axes>"
      ]
     },
     "metadata": {},
     "output_type": "display_data"
    }
   ],
   "source": [
    "import matplotlib.pyplot as plt\n",
    "from sklearn.metrics import confusion_matrix, ConfusionMatrixDisplay\n",
    "\n",
    "\n",
    "def generate_confusion_matrix(model, df, predicted_labels):\n",
    "    cm = confusion_matrix(df.is_Bill.values, predicted_labels)\n",
    "    disp = ConfusionMatrixDisplay(\n",
    "        confusion_matrix=cm, display_labels=[\"Someone else\", \"Bill Hardy\"]\n",
    "    )\n",
    "\n",
    "    plt.figure(figsize=(8, 6))\n",
    "    disp.plot(cmap=\"Blues\")\n",
    "\n",
    "    plt.show()\n",
    "\n",
    "\n",
    "generate_confusion_matrix(model, df, predicted_labels)"
   ]
  },
  {
   "cell_type": "markdown",
   "id": "49d87c8c-caee-4afd-9d3c-8ba946d569b0",
   "metadata": {},
   "source": [
    "The confusion matrix reveals that the model performs well with page as inputs. It can reliably predict when a page belongs to Bill Hardy or not.\n",
    "\n",
    "The model is not perfect (notably because of the limited data and its goal) and makes erroneous predictions from time to time."
   ]
  },
  {
   "cell_type": "code",
   "execution_count": 14,
   "id": "95cebd7a-a532-4a6c-bcda-4a96c8d807be",
   "metadata": {},
   "outputs": [
    {
     "name": "stdout",
     "output_type": "stream",
     "text": [
      "Misclassified pages:\n",
      "Expected narrator: 1 — predicted narrator: 0 — [96] Now I think I will try a cup of what they insolently call Golden Tips, a find young Tippy Tea. And then they say specifically No Tips. It is very disheartening. While I am waiting for it, and for the possible her, I study the only literature before me. What is a Loganberry Kiss? Is it at all like the Plover’s Lunch, that hurts and is desired? It is strange to think that Catharine is even at this moment turning a Somerset in front of the altar. The whole business reminds me of the time we lay outside Jifjaffa, and the Padre said to me: “I would rather have written that poem than take castor oil in the morning.” I had been reading him my Ode on the Intimations of Immorality in Early Childhood. Well, well. How vividly, whenever I adventure on stew now, I remember the stew we had that night. How it all comes back. The whole circumstances of this meeting are so mysterious. It gars me grue, if I may be permitted the expression.\n"
     ]
    }
   ],
   "source": [
    "def identify_misclassified_items(df, predicted_labels, item_type):\n",
    "    misclassified_indices = [\n",
    "        i\n",
    "        for i, (true, pred) in enumerate(zip(df.is_Bill.values, predicted_labels))\n",
    "        if true != pred\n",
    "    ]\n",
    "\n",
    "    if len(misclassified_indices) == 0:\n",
    "        print(f\"No misclassified {item_type}\\n\")\n",
    "        return\n",
    "\n",
    "    print(f\"Misclassified {item_type}:\")\n",
    "    for index in misclassified_indices:\n",
    "        print(\n",
    "            f\"Expected narrator: {int(df.is_Bill.values[index])} — predicted narrator: {predicted_labels[index][0]} — [{df.page.values[index]}] {df.text.values[index]}\"\n",
    "        )\n",
    "\n",
    "\n",
    "identify_misclassified_items(df, predicted_labels, \"pages\")"
   ]
  },
  {
   "cell_type": "markdown",
   "id": "3db58d5a-b22b-4c5e-aea6-505b78ad63c0",
   "metadata": {},
   "source": [
    "# Predicted Pages Representation"
   ]
  },
  {
   "cell_type": "code",
   "execution_count": 15,
   "id": "43a6a48f-72f1-4724-81a4-9be5f6789005",
   "metadata": {},
   "outputs": [
    {
     "data": {
      "image/png": "[encoded data removed]",
      "text/plain": [
       "<Figure size 1200x1000 with 100 Axes>"
      ]
     },
     "metadata": {},
     "output_type": "display_data"
    }
   ],
   "source": [
    "import matplotlib.patches as mpatches\n",
    "\n",
    "cols, rows = 10, 10\n",
    "\n",
    "expected_pages = [page - 1 for page in df[df[\"is_Bill\"]][\"page\"].values.tolist()]\n",
    "predicted_pages = [\n",
    "    index for index, value in enumerate(predicted_labels.flatten()) if value == 1\n",
    "]\n",
    "\n",
    "fig, axs = plt.subplots(rows, cols, figsize=(cols, rows), tight_layout=True)\n",
    "\n",
    "for i, ax in enumerate(axs.ravel()):\n",
    "    ax.set_xticks([])\n",
    "    ax.set_yticks([])\n",
    "    ax.add_patch(\n",
    "        plt.Rectangle((0, 0), 1, 1, fill=True, edgecolor=\"#000000\", facecolor=\"#FFFFFF\")\n",
    "    )\n",
    "    row, col = divmod(i, cols)\n",
    "    ax.text(0.5, 0.95, str(i + 1), ha=\"center\", va=\"top\", color=\"#000000\", fontsize=8)\n",
    "\n",
    "common_indices = set.intersection(set(expected_pages), set(predicted_pages))\n",
    "\n",
    "for index in expected_pages + predicted_pages:\n",
    "    row, col = divmod(index, cols)\n",
    "\n",
    "    if index in common_indices:\n",
    "        # pages adequately predicted\n",
    "        axs[row, col].patches[0].set_facecolor(\"#FFE871\")\n",
    "        axs[row, col].text(\n",
    "            0.5, 0.5, \"✔\", ha=\"center\", va=\"center\", color=\"green\", fontsize=12\n",
    "        )\n",
    "    elif index in expected_pages:\n",
    "        # pages erroneously not predicted\n",
    "        axs[row, col].patches[0].set_facecolor(\"#A6B7DE\")\n",
    "        axs[row, col].text(\n",
    "            0.5, 0.5, \"✘\", ha=\"center\", va=\"center\", color=\"red\", fontsize=12\n",
    "        )\n",
    "    else:\n",
    "        # pages erroneously predicted\n",
    "        axs[row, col].patches[0].set_facecolor(\"#DEA6BA\")\n",
    "        axs[row, col].text(\n",
    "            0.5, 0.5, \"✘\", ha=\"center\", va=\"center\", color=\"red\", fontsize=12\n",
    "        )\n",
    "\n",
    "plt.legend(\n",
    "    handles=[\n",
    "        mpatches.Patch(color=\"#FFE871\", label=\"Correct Prediction\"),\n",
    "        mpatches.Patch(color=\"#A6B7DE\", label=\"Missed Prediction\"),\n",
    "        mpatches.Patch(color=\"#DEA6BA\", label=\"Incorrect Prediction\"),\n",
    "    ],\n",
    "    loc=\"upper center\",\n",
    "    bbox_to_anchor=(0.5, -0.15),\n",
    "    fancybox=True,\n",
    "    ncol=3,\n",
    ")\n",
    "\n",
    "fig.set_size_inches(12, 10)\n",
    "plt.subplots_adjust(top=0.9, bottom=0.2, left=0.1, right=0.9, hspace=0.1, wspace=0.1)\n",
    "\n",
    "plt.show()"
   ]
  },
  {
   "cell_type": "markdown",
   "id": "83cb7285-3972-46b0-b8e4-1a7adbe8d463",
   "metadata": {},
   "source": [
    "***"
   ]
  },
  {
   "cell_type": "markdown",
   "id": "442b0ac4-a5cf-4ba5-bb2e-66d9a3a1e559",
   "metadata": {},
   "source": [
    "## Classification of the Sentences"
   ]
  },
  {
   "cell_type": "markdown",
   "id": "8f6382e6-400b-416b-9cc5-e4a0ed173444",
   "metadata": {},
   "source": [
    "This approach can be transposed to the classification of sentences. It suffices to tokenize the pages."
   ]
  },
  {
   "cell_type": "code",
   "execution_count": 16,
   "id": "f28acd2c-0244-4538-8b5f-c054f34087a7",
   "metadata": {},
   "outputs": [
    {
     "data": {
      "text/html": [
       "<div>\n",
       "<style scoped>\n",
       "    .dataframe tbody tr th:only-of-type {\n",
       "        vertical-align: middle;\n",
       "    }\n",
       "\n",
       "    .dataframe tbody tr th {\n",
       "        vertical-align: top;\n",
       "    }\n",
       "\n",
       "    .dataframe thead th {\n",
       "        text-align: right;\n",
       "    }\n",
       "</style>\n",
       "<table border=\"1\" class=\"dataframe\">\n",
       "  <thead>\n",
       "    <tr style=\"text-align: right;\">\n",
       "      <th></th>\n",
       "      <th>page</th>\n",
       "      <th>text</th>\n",
       "      <th>is_Bill</th>\n",
       "    </tr>\n",
       "  </thead>\n",
       "  <tbody>\n",
       "    <tr>\n",
       "      <th>0</th>\n",
       "      <td>1</td>\n",
       "      <td>I sit down alone at the appointed table and ta...</td>\n",
       "      <td>True</td>\n",
       "    </tr>\n",
       "    <tr>\n",
       "      <th>1</th>\n",
       "      <td>1</td>\n",
       "      <td>Call me nervous, call me fey, if you will; at ...</td>\n",
       "      <td>True</td>\n",
       "    </tr>\n",
       "    <tr>\n",
       "      <th>2</th>\n",
       "      <td>1</td>\n",
       "      <td>It has not had much work since it flew so nimb...</td>\n",
       "      <td>True</td>\n",
       "    </tr>\n",
       "    <tr>\n",
       "      <th>3</th>\n",
       "      <td>1</td>\n",
       "      <td>As I watch the sea, Casy Ferris passes with do...</td>\n",
       "      <td>True</td>\n",
       "    </tr>\n",
       "    <tr>\n",
       "      <th>4</th>\n",
       "      <td>1</td>\n",
       "      <td>Of course, today is the day.</td>\n",
       "      <td>True</td>\n",
       "    </tr>\n",
       "    <tr>\n",
       "      <th>...</th>\n",
       "      <td>...</td>\n",
       "      <td>...</td>\n",
       "      <td>...</td>\n",
       "    </tr>\n",
       "    <tr>\n",
       "      <th>1226</th>\n",
       "      <td>100</td>\n",
       "      <td>O beastly woman.</td>\n",
       "      <td>True</td>\n",
       "    </tr>\n",
       "    <tr>\n",
       "      <th>1227</th>\n",
       "      <td>100</td>\n",
       "      <td>You know not how ill’s all here, about my hear...</td>\n",
       "      <td>True</td>\n",
       "    </tr>\n",
       "    <tr>\n",
       "      <th>1228</th>\n",
       "      <td>100</td>\n",
       "      <td>Henry, I feel it, is for the first and last ti...</td>\n",
       "      <td>True</td>\n",
       "    </tr>\n",
       "    <tr>\n",
       "      <th>1229</th>\n",
       "      <td>100</td>\n",
       "      <td>Good-bye, Henry.</td>\n",
       "      <td>True</td>\n",
       "    </tr>\n",
       "    <tr>\n",
       "      <th>1230</th>\n",
       "      <td>100</td>\n",
       "      <td>He drops awa.</td>\n",
       "      <td>True</td>\n",
       "    </tr>\n",
       "  </tbody>\n",
       "</table>\n",
       "<p>1231 rows × 3 columns</p>\n",
       "</div>"
      ],
      "text/plain": [
       "      page                                               text  is_Bill\n",
       "0        1  I sit down alone at the appointed table and ta...     True\n",
       "1        1  Call me nervous, call me fey, if you will; at ...     True\n",
       "2        1  It has not had much work since it flew so nimb...     True\n",
       "3        1  As I watch the sea, Casy Ferris passes with do...     True\n",
       "4        1                       Of course, today is the day.     True\n",
       "...    ...                                                ...      ...\n",
       "1226   100                                   O beastly woman.     True\n",
       "1227   100  You know not how ill’s all here, about my hear...     True\n",
       "1228   100  Henry, I feel it, is for the first and last ti...     True\n",
       "1229   100                                   Good-bye, Henry.     True\n",
       "1230   100                                      He drops awa.     True\n",
       "\n",
       "[1231 rows x 3 columns]"
      ]
     },
     "execution_count": 16,
     "metadata": {},
     "output_type": "execute_result"
    }
   ],
   "source": [
    "# tokenize pages\n",
    "from nltk import sent_tokenize\n",
    "\n",
    "\n",
    "def tokenize_sentences(paragraph):\n",
    "    sentences = sent_tokenize(paragraph)\n",
    "\n",
    "    valid_sentences = [\n",
    "        sentence for sentence in sentences if any(c.isalnum() for c in sentence)\n",
    "    ]\n",
    "    return valid_sentences\n",
    "\n",
    "\n",
    "df[\"text\"] = df[\"text\"].apply(tokenize_sentences)\n",
    "df = df.explode(\"text\").reset_index(drop=True)\n",
    "df"
   ]
  },
  {
   "cell_type": "code",
   "execution_count": 17,
   "id": "aaede0e7-d919-4756-9ee7-8e2fd6b3061a",
   "metadata": {},
   "outputs": [
    {
     "name": "stdout",
     "output_type": "stream",
     "text": [
      "      page                                               text  is_Bill\n",
      "759     63         But I have called them all by their names.     True\n",
      "205     17   Why should I think her beauty somewhat sinister?     True\n",
      "284     23  The thought of that evening in the Left Luggag...     True\n",
      "378     30                                             Sorry.     True\n",
      "1055    87  Is she, or is she not, a little pale about the...     True\n",
      "...    ...                                                ...      ...\n",
      "147     13  Just like that sort of a poet, I supposed they...    False\n",
      "173     15  And my namesake wrote a letter, in which he sa...    False\n",
      "989     82          He was the third dog I had had in London.    False\n",
      "1116    92             My earlier days had been so different.    False\n",
      "114     10  If he got the third point, she’d owe him a box...    False\n",
      "\n",
      "[348 rows x 3 columns]\n",
      "Train dataset size: 278\n",
      "Test dataset size: 70\n"
     ]
    }
   ],
   "source": [
    "train_texts, test_texts, train_labels, test_labels = get_datasets(df)\n",
    "\n",
    "print(f\"Train dataset size: {train_texts.shape[0]}\")\n",
    "print(f\"Test dataset size: {test_texts.shape[0]}\")\n",
    "\n",
    "train_dataloader = DataLoader(\n",
    "    TokenizedData(train_texts, train_labels, tokenizer), batch_size=20, shuffle=True\n",
    ")\n",
    "test_dataloader = DataLoader(\n",
    "    TokenizedData(test_texts, test_labels, tokenizer), batch_size=20, shuffle=False\n",
    ")"
   ]
  },
  {
   "cell_type": "code",
   "execution_count": 18,
   "id": "08642ac2-8b93-44f0-8079-6bfd072c3c1f",
   "metadata": {},
   "outputs": [
    {
     "name": "stdout",
     "output_type": "stream",
     "text": [
      "1/20 — loss: 0.2432\n",
      "2/20 — loss: 0.1087\n",
      "3/20 — loss: 0.0580\n",
      "4/20 — loss: 0.0263\n",
      "5/20 — loss: 0.0134\n",
      "6/20 — loss: 0.0090\n",
      "7/20 — loss: 0.0065\n",
      "8/20 — loss: 0.0050\n",
      "9/20 — loss: 0.0045\n",
      "10/20 — loss: 0.0038\n",
      "11/20 — loss: 0.0032\n",
      "12/20 — loss: 0.0024\n",
      "13/20 — loss: 0.0022\n",
      "14/20 — loss: 0.0019\n",
      "15/20 — loss: 0.0017\n",
      "16/20 — loss: 0.0013\n",
      "17/20 — loss: 0.0012\n",
      "18/20 — loss: 0.0012\n",
      "19/20 — loss: 0.0010\n",
      "20/20 — loss: 0.0009\n"
     ]
    }
   ],
   "source": [
    "model = train(train_dataloader)"
   ]
  },
  {
   "cell_type": "code",
   "execution_count": 19,
   "id": "dd36b9bf-8fd7-4bab-a225-a35997899a48",
   "metadata": {},
   "outputs": [
    {
     "name": "stdout",
     "output_type": "stream",
     "text": [
      "Test accuracy: 0.9286\n"
     ]
    }
   ],
   "source": [
    "predictions = eval(model, test_texts)\n",
    "\n",
    "accuracy = accuracy_score(test_labels, predictions)\n",
    "print(f\"Test accuracy: {accuracy:.4f}\")"
   ]
  },
  {
   "cell_type": "markdown",
   "id": "8266aa73-81ea-49eb-b818-165b22006f59",
   "metadata": {},
   "source": [
    "The accuracy is undeniably lower than when the model was trained on pages. This is expected, as isolated sentences may be featureless and mundane,  expressible by anyone."
   ]
  },
  {
   "cell_type": "code",
   "execution_count": 20,
   "id": "80ce5cfb-6851-44e1-bd36-02d800cd6e8e",
   "metadata": {},
   "outputs": [],
   "source": [
    "predicted_labels = eval(model, df.text.values)"
   ]
  },
  {
   "cell_type": "code",
   "execution_count": 21,
   "id": "ab4e1dcc-c1d7-4a28-92fe-14bd8471232f",
   "metadata": {},
   "outputs": [
    {
     "data": {
      "text/plain": [
       "<Figure size 800x600 with 0 Axes>"
      ]
     },
     "metadata": {},
     "output_type": "display_data"
    },
    {
     "data": {
      "image/png": "[encoded data removed]",
      "text/plain": [
       "<Figure size 640x480 with 2 Axes>"
      ]
     },
     "metadata": {},
     "output_type": "display_data"
    }
   ],
   "source": [
    "generate_confusion_matrix(model, df, predicted_labels)"
   ]
  },
  {
   "cell_type": "code",
   "execution_count": 22,
   "id": "5488333b-2996-4fdb-9b37-759b23c399ee",
   "metadata": {},
   "outputs": [
    {
     "name": "stdout",
     "output_type": "stream",
     "text": [
      "Misclassified sentences:\n",
      "Expected narrator: 1 — predicted narrator: 0 — [1] But all the nice gulls love a sailor.\n",
      "Expected narrator: 0 — predicted narrator: 1 — [3] No friend of mine takes his ease in my chair.\n",
      "Expected narrator: 1 — predicted narrator: 0 — [4] But the queen can do no wrong.\n",
      "Expected narrator: 1 — predicted narrator: 0 — [4] I remember clearly, perhaps because I ought to have my wits about me for another purpose, how Sir Roland’s father, Sir Weedon, once saw Henry taking the part of Lesurques and mixed him up with Le Cirque d’Hiver.\n",
      "Expected narrator: 1 — predicted narrator: 0 — [4] If she had said a mashie.\n",
      "Expected narrator: 0 — predicted narrator: 1 — [6] Why not?\n",
      "Expected narrator: 0 — predicted narrator: 1 — [13]     Rintrah, where has thou hid thy bride?\n",
      "Expected narrator: 0 — predicted narrator: 1 — [13] Alas!\n",
      "Expected narrator: 1 — predicted narrator: 0 — [17] Conveniently situated for some things, that is.\n",
      "Expected narrator: 1 — predicted narrator: 0 — [17] Or the Moning, very choice, delicate flavour.\n",
      "Expected narrator: 1 — predicted narrator: 0 — [17] Why go to pubs?\n",
      "Expected narrator: 1 — predicted narrator: 0 — [17] There would be no Moning at the bar.\n",
      "Expected narrator: 1 — predicted narrator: 0 — [17] And that must be he.\n",
      "Expected narrator: 1 — predicted narrator: 0 — [17] Poor child.\n",
      "Expected narrator: 1 — predicted narrator: 0 — [17] Because, perhaps, marriage is in the air?\n",
      "Expected narrator: 0 — predicted narrator: 1 — [18] It is somewhat too sensational.\n",
      "Expected narrator: 0 — predicted narrator: 1 — [18] I have never met any really wicked person before.\n",
      "Expected narrator: 0 — predicted narrator: 1 — [18] I feel rather frightened.\n",
      "Expected narrator: 0 — predicted narrator: 1 — [18] I am so afraid he will look just like everyone else.\n",
      "Expected narrator: 0 — predicted narrator: 1 — [20] Good enough.\n",
      "Expected narrator: 0 — predicted narrator: 1 — [20] We have circled and circled till we have arrived home again, we two.\n",
      "Expected narrator: 0 — predicted narrator: 1 — [21] Far, far from here the Adriatic breaks in a warm bay among the green Illyrian hills.\n",
      "Expected narrator: 0 — predicted narrator: 1 — [21] Matthew, Mark, Luke, and John.\n",
      "Expected narrator: 1 — predicted narrator: 0 — [23] Bill to Solve the Traffic Problem.\n",
      "Expected narrator: 1 — predicted narrator: 0 — [23] Bill to improve the Secondary Schools.\n",
      "Expected narrator: 1 — predicted narrator: 0 — [23] Toll slowly, a matchbox rhythm.\n",
      "Expected narrator: 1 — predicted narrator: 0 — [23] Bryant and, of course, May.\n",
      "Expected narrator: 1 — predicted narrator: 0 — [23] Poor Oscar.\n",
      "Expected narrator: 1 — predicted narrator: 0 — [23] He sold matches.\n",
      "Expected narrator: 0 — predicted narrator: 1 — [28] I have only been married once.\n",
      "Expected narrator: 0 — predicted narrator: 1 — [28] I never think of it myself.\n",
      "Expected narrator: 1 — predicted narrator: 0 — [30] Your gardenia is difficult at a distance to determine.\n",
      "Expected narrator: 1 — predicted narrator: 0 — [30] It may be florida flore-pleno, double white.\n",
      "Expected narrator: 1 — predicted narrator: 0 — [30] I am a very sick fellow.\n",
      "Expected narrator: 0 — predicted narrator: 1 — [31] Caseus, ah!\n",
      "Expected narrator: 0 — predicted narrator: 1 — [35] Alas, poor Thomas!)\n",
      "Expected narrator: 0 — predicted narrator: 1 — [40] The bean bursts noiselessly through the mould in the garden.\n",
      "Expected narrator: 0 — predicted narrator: 1 — [42] I had let Henry guide me.\n",
      "Expected narrator: 0 — predicted narrator: 1 — [42] Julienne?\n",
      "Expected narrator: 1 — predicted narrator: 0 — [43] Is there some esoteric meaning behind the titles?\n",
      "Expected narrator: 1 — predicted narrator: 0 — [43] Emotional stuff.\n",
      "Expected narrator: 1 — predicted narrator: 0 — [43] The hard stuff, I mean; but it would ruin my hand.\n",
      "Expected narrator: 1 — predicted narrator: 0 — [43] Where would my income be if Aquarius were to turn Gemini?\n",
      "Expected narrator: 1 — predicted narrator: 0 — [47] And here, thank heaven, come the first, much needed rain of the week.\n",
      "Expected narrator: 1 — predicted narrator: 0 — [47] We were sitting in the verandah in the dead, hot, close air, gasping and praying that the black-blue clouds would let down and bring the cool.\n",
      "Expected narrator: 0 — predicted narrator: 1 — [50] It is a marvellous gift, I always think.\n",
      "Expected narrator: 0 — predicted narrator: 1 — [51] The echoes ring with our indecent calls, I pick out some low person for my dearest friend.\n",
      "Expected narrator: 1 — predicted narrator: 0 — [63] I have always hated that these writers should be anonymous.\n",
      "Expected narrator: 0 — predicted narrator: 1 — [65] No man does.\n",
      "Expected narrator: 0 — predicted narrator: 1 — [65] That’s his.\n",
      "Expected narrator: 0 — predicted narrator: 1 — [68] Surely this has eavesdropped at my last crucial meeting with the old man.\n",
      "Expected narrator: 0 — predicted narrator: 1 — [81] Oh, yeah.\n",
      "Expected narrator: 0 — predicted narrator: 1 — [82] Bartholomew pawed my ankles even, but I am not superstitious, to ladder danger, desiring sweet biscuits.\n",
      "Expected narrator: 1 — predicted narrator: 0 — [84] Off went his arm today.\n",
      "Expected narrator: 0 — predicted narrator: 1 — [86] What is removed drops horribly in a pail.\n",
      "Expected narrator: 0 — predicted narrator: 1 — [86] Why should that stick in my head?\n",
      "Expected narrator: 0 — predicted narrator: 1 — [86] Has anyone supposed it lucky to be born?\n",
      "Expected narrator: 0 — predicted narrator: 1 — [86] I hasten to inform him or her it is just as lucky to die, and I know it.\n",
      "Expected narrator: 1 — predicted narrator: 0 — [87] Of the old bold mate of Henry Morgan.\n",
      "Expected narrator: 0 — predicted narrator: 1 — [90] You will, Oscar, you will.\n",
      "Expected narrator: 0 — predicted narrator: 1 — [92] Yet now my heart leaps, O beloved!\n",
      "Expected narrator: 0 — predicted narrator: 1 — [93] And pipes for closets all over, and cutting the frames too light,But M’Cullough he died in the sixties, and—well,I’m dying tonight .\n",
      "Expected narrator: 0 — predicted narrator: 1 — [94] And Henry was waiting for me.\n",
      "Expected narrator: 1 — predicted narrator: 0 — [96] And then they say specifically No Tips.\n",
      "Expected narrator: 1 — predicted narrator: 0 — [96] Is it at all like the Plover’s Lunch, that hurts and is desired?\n",
      "Expected narrator: 1 — predicted narrator: 0 — [96] The whole business reminds me of the time we lay outside Jifjaffa, and the Padre said to me: “I would rather have written that poem than take castor oil in the morning.” I had been reading him my Ode on the Intimations of Immorality in Early Childhood.\n",
      "Expected narrator: 1 — predicted narrator: 0 — [100] Scotland Yard, of course.\n"
     ]
    }
   ],
   "source": [
    "identify_misclassified_items(df, predicted_labels, \"sentences\")"
   ]
  },
  {
   "cell_type": "markdown",
   "id": "da243e13-d1a1-4027-ba27-e9ba2e55b0c0",
   "metadata": {},
   "source": [
    "Examples of sentences typically misclassified: \n",
    "\n",
    "* *Oh, yeah.* (May Doncaster)\n",
    "* *I have no chair.* (John Walker, quoting Walt Whitman)\n",
    "* *Bill to Solve the Traffic Problem.* (Not attributed to Bill Hardy)\n",
    "* *O toison, moutonnant jusque sur l’encolure!* (Not attributed to Bill Hardy, quoting Charles Baudelaire)"
   ]
  }
 ],
 "metadata": {
  "kernelspec": {
   "display_name": "Python 3 (ipykernel)",
   "language": "python",
   "name": "python3"
  },
  "language_info": {
   "codemirror_mode": {
    "name": "ipython",
    "version": 3
   },
   "file_extension": ".py",
   "mimetype": "text/x-python",
   "name": "python",
   "nbconvert_exporter": "python",
   "pygments_lexer": "ipython3",
   "version": "3.11.5"
  }
 },
 "nbformat": 4,
 "nbformat_minor": 5
}
