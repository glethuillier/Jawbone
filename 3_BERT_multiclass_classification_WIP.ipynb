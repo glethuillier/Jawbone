{
 "cells": [
  {
   "cell_type": "markdown",
   "id": "33a1903b-67f0-4566-b540-1f0d149d0077",
   "metadata": {},
   "source": [
    "# Using BERT to Identify Bill Hardy (Multiclass Classification) [WIP:DRAFT]"
   ]
  },
  {
   "cell_type": "markdown",
   "id": "e2f54ea4-9f0f-4902-b96e-cf11757c6c48",
   "metadata": {},
   "source": [
    "## Classification of the Pages"
   ]
  },
  {
   "cell_type": "markdown",
   "id": "05f5bc0b-1604-4202-a258-ff346af633cd",
   "metadata": {},
   "source": [
    "[K-means clustering seems to indicate that some narrators can be inferred from the pages](./1_k-means.ipynb). \n",
    "\n",
    "To test this hypothesis, supervised learning will be used to classify the pages."
   ]
  },
  {
   "cell_type": "code",
   "execution_count": 1,
   "id": "a2613187-fe07-4d6d-a411-472b4f0d0c49",
   "metadata": {},
   "outputs": [],
   "source": [
    "%%capture\n",
    "\n",
    "# make logs less verbose\n",
    "import os\n",
    "\n",
    "os.environ[\"TF_CPP_MIN_LOG_LEVEL\"] = \"2\"\n",
    "\n",
    "# suppress UnparsedFlagAccessError warning\n",
    "import sys\n",
    "from absl import flags\n",
    "\n",
    "sys.argv = [\"preserve_unused_tokens=False\"]\n",
    "flags.FLAGS(sys.argv)\n",
    "\n",
    "# suppress warnings\n",
    "# (after having ensured they did not impact the analysis)\n",
    "import warnings\n",
    "\n",
    "warnings.filterwarnings(\"ignore\")"
   ]
  },
  {
   "cell_type": "markdown",
   "id": "99aa2a8f-2c77-4955-ba95-78e8027b5bae",
   "metadata": {},
   "source": [
    "## Process data"
   ]
  },
  {
   "cell_type": "code",
   "execution_count": 2,
   "id": "108404f2-a14a-4dc4-af6c-5924f3c4d3b4",
   "metadata": {},
   "outputs": [],
   "source": [
    "import pandas as pd\n",
    "\n",
    "df = pd.read_json(\"./data/jawbone.json\")"
   ]
  },
  {
   "cell_type": "markdown",
   "id": "6453c0e5-bd61-407c-9023-5d788086c8fe",
   "metadata": {},
   "source": [
    "Augment the data with the narrator labels."
   ]
  },
  {
   "cell_type": "code",
   "execution_count": 3,
   "id": "83336e1a-e7ba-4b0c-b145-7751808d8ee7",
   "metadata": {},
   "outputs": [
    {
     "data": {
      "text/html": [
       "<div>\n",
       "<style scoped>\n",
       "    .dataframe tbody tr th:only-of-type {\n",
       "        vertical-align: middle;\n",
       "    }\n",
       "\n",
       "    .dataframe tbody tr th {\n",
       "        vertical-align: top;\n",
       "    }\n",
       "\n",
       "    .dataframe thead th {\n",
       "        text-align: right;\n",
       "    }\n",
       "</style>\n",
       "<table border=\"1\" class=\"dataframe\">\n",
       "  <thead>\n",
       "    <tr style=\"text-align: right;\">\n",
       "      <th></th>\n",
       "      <th>page</th>\n",
       "      <th>text</th>\n",
       "      <th>narrator</th>\n",
       "    </tr>\n",
       "  </thead>\n",
       "  <tbody>\n",
       "    <tr>\n",
       "      <th>0</th>\n",
       "      <td>1</td>\n",
       "      <td>I sit down alone at the appointed table and ta...</td>\n",
       "      <td>Bill Hardy</td>\n",
       "    </tr>\n",
       "    <tr>\n",
       "      <th>1</th>\n",
       "      <td>2</td>\n",
       "      <td>I plunged for the last time. The few remaining...</td>\n",
       "      <td>Oscar Mills</td>\n",
       "    </tr>\n",
       "    <tr>\n",
       "      <th>2</th>\n",
       "      <td>3</td>\n",
       "      <td>At my meeting with Clement yesterday, he had b...</td>\n",
       "      <td>John Walker</td>\n",
       "    </tr>\n",
       "    <tr>\n",
       "      <th>3</th>\n",
       "      <td>4</td>\n",
       "      <td>And I really think I would have preferred the ...</td>\n",
       "      <td>Bill Hardy</td>\n",
       "    </tr>\n",
       "    <tr>\n",
       "      <th>4</th>\n",
       "      <td>5</td>\n",
       "      <td>I hated my eye for being caught by what didn’t...</td>\n",
       "      <td>May Doncaster</td>\n",
       "    </tr>\n",
       "    <tr>\n",
       "      <th>...</th>\n",
       "      <td>...</td>\n",
       "      <td>...</td>\n",
       "      <td>...</td>\n",
       "    </tr>\n",
       "    <tr>\n",
       "      <th>95</th>\n",
       "      <td>96</td>\n",
       "      <td>Now I think I will try a cup of what they inso...</td>\n",
       "      <td>Bill Hardy</td>\n",
       "    </tr>\n",
       "    <tr>\n",
       "      <th>96</th>\n",
       "      <td>97</td>\n",
       "      <td>To have slept and to wake right up surrounded ...</td>\n",
       "      <td>John Walker</td>\n",
       "    </tr>\n",
       "    <tr>\n",
       "      <th>97</th>\n",
       "      <td>98</td>\n",
       "      <td>He stood and looked down at me; but I was not ...</td>\n",
       "      <td>Sir Paul Trinder</td>\n",
       "    </tr>\n",
       "    <tr>\n",
       "      <th>98</th>\n",
       "      <td>99</td>\n",
       "      <td>And she wore a mauve love-knot on her breast, ...</td>\n",
       "      <td>Henry (dog)</td>\n",
       "    </tr>\n",
       "    <tr>\n",
       "      <th>99</th>\n",
       "      <td>100</td>\n",
       "      <td>I dimly guess why the old dead so wanted this....</td>\n",
       "      <td>Bill Hardy</td>\n",
       "    </tr>\n",
       "  </tbody>\n",
       "</table>\n",
       "<p>100 rows × 3 columns</p>\n",
       "</div>"
      ],
      "text/plain": [
       "    page                                               text          narrator\n",
       "0      1  I sit down alone at the appointed table and ta...        Bill Hardy\n",
       "1      2  I plunged for the last time. The few remaining...       Oscar Mills\n",
       "2      3  At my meeting with Clement yesterday, he had b...       John Walker\n",
       "3      4  And I really think I would have preferred the ...        Bill Hardy\n",
       "4      5  I hated my eye for being caught by what didn’t...     May Doncaster\n",
       "..   ...                                                ...               ...\n",
       "95    96  Now I think I will try a cup of what they inso...        Bill Hardy\n",
       "96    97  To have slept and to wake right up surrounded ...       John Walker\n",
       "97    98  He stood and looked down at me; but I was not ...  Sir Paul Trinder\n",
       "98    99  And she wore a mauve love-knot on her breast, ...       Henry (dog)\n",
       "99   100  I dimly guess why the old dead so wanted this....        Bill Hardy\n",
       "\n",
       "[100 rows x 3 columns]"
      ]
     },
     "execution_count": 3,
     "metadata": {},
     "output_type": "execute_result"
    }
   ],
   "source": [
    "import json\n",
    "\n",
    "f = open(\"./data/unofficial_solution.json\")\n",
    "possible_solutions = json.load(f)\n",
    "f.close()\n",
    "\n",
    "\n",
    "def get_narrator(id):\n",
    "    for key, ids in possible_solutions.items():\n",
    "        if id in ids:\n",
    "            return key\n",
    "    return None\n",
    "\n",
    "\n",
    "df = df.astype({\"text\": \"string\"})\n",
    "df[\"narrator\"] = df[\"page\"].apply(lambda x: get_narrator(x))\n",
    "df"
   ]
  },
  {
   "cell_type": "markdown",
   "id": "e5a39083-36ff-4205-86cf-9b45ee6f1ea8",
   "metadata": {},
   "source": [
    "Combining the pages and the suggested solution results in a series of numbered pages with a label indicating the narrator.\n",
    "\n",
    "The data is now labeled."
   ]
  },
  {
   "cell_type": "markdown",
   "id": "6af53b8c-59f5-4077-bc2b-a7991f4a45c2",
   "metadata": {},
   "source": [
    "## Train BERT Model"
   ]
  },
  {
   "cell_type": "markdown",
   "id": "d427fb78-c405-46c5-86cc-03823d4a8d2c",
   "metadata": {},
   "source": [
    "BERT (Bidirectional Encoder Representations from Transformers) can  be used to classify the pages.\n",
    "\n",
    "The goal is to train the model on a subset of the pages belonging to different narrators.\n",
    "\n",
    "Empirically, [BERT<sub>BASE</sub> uncased](https://huggingface.co/bert-base-uncased) has appeared suitable for this purpose."
   ]
  },
  {
   "cell_type": "code",
   "execution_count": 4,
   "id": "3fee4c4e-c542-40dc-b70c-f4584ff63a20",
   "metadata": {},
   "outputs": [],
   "source": [
    "from transformers import BertTokenizer, BertForSequenceClassification\n",
    "from transformers import logging\n",
    "\n",
    "logging.set_verbosity_error()  # suppress untrained weight error (unconsequential)\n",
    "\n",
    "# use BERT large uncased model\n",
    "# https://huggingface.co/bert-large-uncased\n",
    "tokenizer = BertTokenizer.from_pretrained(\"bert-base-uncased\")\n",
    "bert_model = BertForSequenceClassification.from_pretrained(\n",
    "    \"bert-base-uncased\", num_labels=8\n",
    ")"
   ]
  },
  {
   "cell_type": "markdown",
   "id": "1e70306d-1eb4-4a7e-8634-d53e6480477f",
   "metadata": {},
   "source": [
    "(TODO) Experimenting with different hyperparameters indicates a good balance between accuracy and training performance can be achieved with a learning rate of 2 × 10<sup>-X</sup> and XX learning epochs. "
   ]
  },
  {
   "cell_type": "code",
   "execution_count": 5,
   "id": "aa06971b-697f-47ba-a3b3-cf890f558e47",
   "metadata": {},
   "outputs": [],
   "source": [
    "import torch\n",
    "\n",
    "# hyperparameters\n",
    "\n",
    "num_epochs = 20\n",
    "learning_rate = 2e-5\n",
    "device = torch.device(\"cuda\" if torch.cuda.is_available() else \"cpu\")"
   ]
  },
  {
   "cell_type": "markdown",
   "id": "a425a9e8-cd38-4657-8868-cf5eb60b6af3",
   "metadata": {},
   "source": [
    "The book is sampled for training and testing in the following proportion: **5 pages per narrator**."
   ]
  },
  {
   "cell_type": "code",
   "execution_count": 6,
   "id": "54e1db73-4020-4ddb-8f28-78e91dd2cc60",
   "metadata": {},
   "outputs": [
    {
     "name": "stdout",
     "output_type": "stream",
     "text": [
      "             page                                               text  narrator\n",
      "narrator                                                                      \n",
      "0        86    87  Of the old bold mate of Henry Morgan. My guest...         0\n",
      "         62    63  I cannot help, even with this supreme distract...         0\n",
      "         46    47  Babs now moves across the vision, crowned with...         0\n",
      "         0      1  I sit down alone at the appointed table and ta...         0\n",
      "         83    84  I wish she would tell me more. I wish she woul...         0\n",
      "...           ...                                                ...       ...\n",
      "7        27    28  I found myself by that one of the windows whic...         7\n",
      "         97    98  He stood and looked down at me; but I was not ...         7\n",
      "         8      9  The sound of the bell, as of a boding gnat, ju...         7\n",
      "         88    89  The ancient had then sat down among the heathe...         7\n",
      "         11    12  I rubbed my eyes and massaged my temples with ...         7\n",
      "\n",
      "[80 rows x 3 columns]\n",
      "Train dataset size: 64\n",
      "Test dataset size: 16\n"
     ]
    }
   ],
   "source": [
    "from sklearn.model_selection import train_test_split\n",
    "from sklearn import preprocessing\n",
    "\n",
    "label_encoder = preprocessing.LabelEncoder()\n",
    "df[\"narrator\"] = label_encoder.fit_transform(df[\"narrator\"])\n",
    "\n",
    "\n",
    "def get_datasets(df):\n",
    "    # sample 5% of the pages per narrator\n",
    "    df_sampled = df.groupby(\"narrator\").apply(lambda s: s.sample(5))\n",
    "    print(df_sampled)\n",
    "\n",
    "    # split datasets\n",
    "    return train_test_split(\n",
    "        df_sampled[\"text\"].values,\n",
    "        df_sampled[\"narrator\"].values,\n",
    "        test_size=0.2,\n",
    "    )\n",
    "\n",
    "\n",
    "train_texts, test_texts, train_labels, test_labels = get_datasets(df)\n",
    "\n",
    "print(f\"Train dataset size: {train_texts.shape[0]}\")\n",
    "print(f\"Test dataset size: {test_texts.shape[0]}\")"
   ]
  },
  {
   "cell_type": "code",
   "execution_count": 7,
   "id": "31e2edc8-1183-4bc4-92a3-e7be116ee79d",
   "metadata": {},
   "outputs": [],
   "source": [
    "from torch.utils.data import DataLoader, Dataset\n",
    "\n",
    "\n",
    "# tokenize and prepare the input data\n",
    "class TokenizedData(Dataset):\n",
    "    def __init__(self, texts, labels, tokenizer, max_len=128):\n",
    "        self.texts = texts\n",
    "        self.labels = labels\n",
    "        self.tokenizer = tokenizer\n",
    "        self.max_len = max_len\n",
    "\n",
    "    def __len__(self):\n",
    "        return len(self.texts)\n",
    "\n",
    "    def __getitem__(self, idx):\n",
    "        text = str(self.texts[idx])\n",
    "        label = int(self.labels[idx])\n",
    "        inputs = self.tokenizer(\n",
    "            text,\n",
    "            truncation=True,\n",
    "            padding=\"max_length\",\n",
    "            max_length=self.max_len,\n",
    "            return_tensors=\"pt\",\n",
    "        )\n",
    "        return {\n",
    "            \"input_ids\": inputs[\"input_ids\"].flatten(),\n",
    "            \"attention_mask\": inputs[\"attention_mask\"].flatten(),\n",
    "            \"label\": torch.tensor(\n",
    "                label, dtype=torch.long\n",
    "            ),\n",
    "        }\n",
    "\n",
    "\n",
    "# important: set a large max_len for the pages\n",
    "train_dataloader = DataLoader(\n",
    "    TokenizedData(train_texts, train_labels, tokenizer, max_len=256),\n",
    "    batch_size=2,\n",
    "    shuffle=True,\n",
    ")\n",
    "test_dataloader = DataLoader(\n",
    "    TokenizedData(test_texts, test_labels, tokenizer, max_len=256),\n",
    "    batch_size=2,\n",
    "    shuffle=False,\n",
    ")"
   ]
  },
  {
   "cell_type": "code",
   "execution_count": 8,
   "id": "52ca8f06-cd12-4708-8ce5-335335a921df",
   "metadata": {},
   "outputs": [
    {
     "name": "stdout",
     "output_type": "stream",
     "text": [
      "1/20 — loss: 2.1492\n",
      "2/20 — loss: 1.9956\n",
      "3/20 — loss: 1.7714\n",
      "4/20 — loss: 1.5938\n",
      "5/20 — loss: 1.2902\n",
      "6/20 — loss: 1.0401\n",
      "7/20 — loss: 0.8356\n",
      "8/20 — loss: 0.6500\n",
      "9/20 — loss: 0.5063\n",
      "10/20 — loss: 0.3475\n",
      "11/20 — loss: 0.2790\n",
      "12/20 — loss: 0.2011\n",
      "13/20 — loss: 0.1560\n",
      "14/20 — loss: 0.1183\n",
      "15/20 — loss: 0.0984\n",
      "16/20 — loss: 0.0803\n",
      "17/20 — loss: 0.0724\n",
      "18/20 — loss: 0.0593\n",
      "19/20 — loss: 0.0520\n",
      "20/20 — loss: 0.0463\n"
     ]
    }
   ],
   "source": [
    "from transformers import AdamW\n",
    "import copy\n",
    "\n",
    "\n",
    "def train(dataloader):\n",
    "    model = copy.copy(bert_model)\n",
    "    model.to(device)\n",
    "\n",
    "    criterion = torch.nn.CrossEntropyLoss()\n",
    "    optimizer = AdamW(model.parameters(), lr=learning_rate)\n",
    "\n",
    "    for epoch in range(num_epochs):\n",
    "        model.train()\n",
    "        total_loss = 0.0\n",
    "\n",
    "        for batch in dataloader:\n",
    "            input_ids = batch[\"input_ids\"].to(device)\n",
    "            attention_mask = batch[\"attention_mask\"].to(device)\n",
    "            labels = batch[\"label\"].to(device)\n",
    "\n",
    "            optimizer.zero_grad()\n",
    "            outputs = model(input_ids, attention_mask=attention_mask)\n",
    "            loss = criterion(outputs.logits, labels)\n",
    "            loss.backward()\n",
    "\n",
    "            optimizer.step()\n",
    "\n",
    "            total_loss += loss.item()\n",
    "\n",
    "        avg_loss = total_loss / len(dataloader)\n",
    "        print(f\"{epoch + 1}/{num_epochs} — loss: {avg_loss:.4f}\")\n",
    "\n",
    "    return model\n",
    "\n",
    "\n",
    "model = train(train_dataloader)"
   ]
  },
  {
   "cell_type": "markdown",
   "id": "82f9f942-4c07-41df-8bf5-ce16f7d20ce6",
   "metadata": {},
   "source": [
    "## Prediction"
   ]
  },
  {
   "cell_type": "code",
   "execution_count": 9,
   "id": "3804b422-60c9-4570-9690-29eae2c0a687",
   "metadata": {},
   "outputs": [
    {
     "name": "stdout",
     "output_type": "stream",
     "text": [
      "Accuracy: 0.8125\n"
     ]
    }
   ],
   "source": [
    "from sklearn.metrics import accuracy_score\n",
    "\n",
    "\n",
    "def eval(model, dataloader):\n",
    "    model.eval()\n",
    "\n",
    "    all_labels = []\n",
    "    all_predictions = []\n",
    "\n",
    "    for batch in dataloader:\n",
    "        input_ids = batch[\"input_ids\"].to(device)\n",
    "        attention_mask = batch[\"attention_mask\"].to(device)\n",
    "        labels = batch[\"label\"].cpu().numpy()\n",
    "\n",
    "        with torch.no_grad():\n",
    "            outputs = model(input_ids, attention_mask=attention_mask)\n",
    "\n",
    "        logits = outputs.logits\n",
    "        predicted_labels = torch.argmax(logits, dim=1).cpu().numpy()\n",
    "\n",
    "        all_labels.extend(labels)\n",
    "        all_predictions.extend(predicted_labels)\n",
    "\n",
    "    accuracy = accuracy_score(all_labels, all_predictions)\n",
    "\n",
    "    return all_predictions, accuracy\n",
    "\n",
    "\n",
    "predicted_labels, accuracy = eval(model, test_dataloader)\n",
    "print(f\"Accuracy: {accuracy:.4f}\")"
   ]
  },
  {
   "cell_type": "code",
   "execution_count": 10,
   "id": "52edf0b0-95e5-45a4-9bd0-7c6b9d249d5f",
   "metadata": {},
   "outputs": [],
   "source": [
    "all_dataloader = DataLoader(\n",
    "    TokenizedData(df[\"text\"], df[\"narrator\"], tokenizer, max_len=256),\n",
    "    batch_size=2,\n",
    "    shuffle=True,\n",
    ")\n",
    "predicted_labels = eval(model, all_dataloader)"
   ]
  },
  {
   "cell_type": "code",
   "execution_count": 12,
   "id": "d147c3c1-7ac7-4bbc-a966-c46f6ba90b5f",
   "metadata": {},
   "outputs": [
    {
     "data": {
      "text/plain": [
       "<Figure size 800x600 with 0 Axes>"
      ]
     },
     "metadata": {},
     "output_type": "display_data"
    },
    {
     "data": {
      "image/png": "[encoded data removed]",
      "text/plain": [
       "<Figure size 640x480 with 2 Axes>"
      ]
     },
     "metadata": {},
     "output_type": "display_data"
    }
   ],
   "source": [
    "from sklearn.metrics import confusion_matrix, ConfusionMatrixDisplay\n",
    "import matplotlib.pyplot as plt\n",
    "\n",
    "\n",
    "def generate_confusion_matrix(model, df, predicted_labels):\n",
    "    true_labels = df[\"narrator\"].values\n",
    "\n",
    "    class_labels = sorted(df[\"narrator\"].unique())\n",
    "    cm = confusion_matrix(true_labels, predicted_labels, labels=class_labels)\n",
    "\n",
    "    disp = ConfusionMatrixDisplay(confusion_matrix=cm, display_labels=class_labels)\n",
    "\n",
    "    plt.figure(figsize=(8, 6))\n",
    "    disp.plot(cmap=\"Blues\", values_format=\".4g\")\n",
    "    plt.title(\"Confusion Matrix\")\n",
    "    plt.show()\n",
    "\n",
    "\n",
    "generate_confusion_matrix(model, df, predicted_labels[0])"
   ]
  }
 ],
 "metadata": {
  "kernelspec": {
   "display_name": "Python 3 (ipykernel)",
   "language": "python",
   "name": "python3"
  },
  "language_info": {
   "codemirror_mode": {
    "name": "ipython",
    "version": 3
   },
   "file_extension": ".py",
   "mimetype": "text/x-python",
   "name": "python",
   "nbconvert_exporter": "python",
   "pygments_lexer": "ipython3",
   "version": "3.11.5"
  }
 },
 "nbformat": 4,
 "nbformat_minor": 5
}
