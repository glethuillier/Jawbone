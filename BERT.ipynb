{
 "cells": [
  {
   "cell_type": "markdown",
   "id": "509d2766-6264-4edb-886e-a00e0f726f78",
   "metadata": {},
   "source": []
  },
  {
   "cell_type": "code",
   "execution_count": 1,
   "id": "f5ab1ea4-02f7-4292-b74f-62567d6fc992",
   "metadata": {},
   "outputs": [
    {
     "name": "stdout",
     "output_type": "stream",
     "text": [
      "Intel MKL WARNING: Support of Intel(R) Streaming SIMD Extensions 4.2 (Intel(R) SSE4.2) enabled only processors has been deprecated. Intel oneAPI Math Kernel Library 2025.0 will require Intel(R) Advanced Vector Extensions (Intel(R) AVX) instructions.\n",
      "Intel MKL WARNING: Support of Intel(R) Streaming SIMD Extensions 4.2 (Intel(R) SSE4.2) enabled only processors has been deprecated. Intel oneAPI Math Kernel Library 2025.0 will require Intel(R) Advanced Vector Extensions (Intel(R) AVX) instructions.\n"
     ]
    }
   ],
   "source": [
    "import os\n",
    "import torch\n",
    "from torch import nn\n",
    "from torch.utils.data import DataLoader, Dataset\n",
    "from transformers import (\n",
    "    BertTokenizer,\n",
    "    BertModel,\n",
    "    AdamW,\n",
    "    get_linear_schedule_with_warmup,\n",
    ")\n",
    "from sklearn.model_selection import train_test_split\n",
    "from sklearn.metrics import accuracy_score, classification_report\n",
    "import pandas as pd"
   ]
  },
  {
   "cell_type": "code",
   "execution_count": 2,
   "id": "108404f2-a14a-4dc4-af6c-5924f3c4d3b4",
   "metadata": {},
   "outputs": [],
   "source": [
    "df = pd.read_json(\"./data/jawbone.json\")"
   ]
  },
  {
   "cell_type": "markdown",
   "id": "6453c0e5-bd61-407c-9023-5d788086c8fe",
   "metadata": {},
   "source": [
    "Augment the data with the label (narrator)"
   ]
  },
  {
   "cell_type": "code",
   "execution_count": 3,
   "id": "83336e1a-e7ba-4b0c-b145-7751808d8ee7",
   "metadata": {},
   "outputs": [
    {
     "data": {
      "text/html": [
       "<div>\n",
       "<style scoped>\n",
       "    .dataframe tbody tr th:only-of-type {\n",
       "        vertical-align: middle;\n",
       "    }\n",
       "\n",
       "    .dataframe tbody tr th {\n",
       "        vertical-align: top;\n",
       "    }\n",
       "\n",
       "    .dataframe thead th {\n",
       "        text-align: right;\n",
       "    }\n",
       "</style>\n",
       "<table border=\"1\" class=\"dataframe\">\n",
       "  <thead>\n",
       "    <tr style=\"text-align: right;\">\n",
       "      <th></th>\n",
       "      <th>page</th>\n",
       "      <th>text</th>\n",
       "      <th>narrator</th>\n",
       "    </tr>\n",
       "  </thead>\n",
       "  <tbody>\n",
       "    <tr>\n",
       "      <th>0</th>\n",
       "      <td>1</td>\n",
       "      <td>I sit down alone at the appointed table and ta...</td>\n",
       "      <td>Bill Hardy</td>\n",
       "    </tr>\n",
       "    <tr>\n",
       "      <th>1</th>\n",
       "      <td>2</td>\n",
       "      <td>I plunged for the last time. The few remaining...</td>\n",
       "      <td>Oscar Mills</td>\n",
       "    </tr>\n",
       "    <tr>\n",
       "      <th>2</th>\n",
       "      <td>3</td>\n",
       "      <td>At my meeting with Clement yesterday, he had b...</td>\n",
       "      <td>John Walker</td>\n",
       "    </tr>\n",
       "    <tr>\n",
       "      <th>3</th>\n",
       "      <td>4</td>\n",
       "      <td>And I really think I would have preferred the ...</td>\n",
       "      <td>Bill Hardy</td>\n",
       "    </tr>\n",
       "    <tr>\n",
       "      <th>4</th>\n",
       "      <td>5</td>\n",
       "      <td>I hated my eye for being caught by what didn’t...</td>\n",
       "      <td>May Doncaster</td>\n",
       "    </tr>\n",
       "    <tr>\n",
       "      <th>...</th>\n",
       "      <td>...</td>\n",
       "      <td>...</td>\n",
       "      <td>...</td>\n",
       "    </tr>\n",
       "    <tr>\n",
       "      <th>95</th>\n",
       "      <td>96</td>\n",
       "      <td>Now I think I will try a cup of what they inso...</td>\n",
       "      <td>Bill Hardy</td>\n",
       "    </tr>\n",
       "    <tr>\n",
       "      <th>96</th>\n",
       "      <td>97</td>\n",
       "      <td>To have slept and to wake right up surrounded ...</td>\n",
       "      <td>John Walker</td>\n",
       "    </tr>\n",
       "    <tr>\n",
       "      <th>97</th>\n",
       "      <td>98</td>\n",
       "      <td>He stood and looked down at me; but I was not ...</td>\n",
       "      <td>Sir Paul Trinder</td>\n",
       "    </tr>\n",
       "    <tr>\n",
       "      <th>98</th>\n",
       "      <td>99</td>\n",
       "      <td>And she wore a mauve love-knot on her breast, ...</td>\n",
       "      <td>Henry (dog)</td>\n",
       "    </tr>\n",
       "    <tr>\n",
       "      <th>99</th>\n",
       "      <td>100</td>\n",
       "      <td>I dimly guess why the old dead so wanted this....</td>\n",
       "      <td>Bill Hardy</td>\n",
       "    </tr>\n",
       "  </tbody>\n",
       "</table>\n",
       "<p>100 rows × 3 columns</p>\n",
       "</div>"
      ],
      "text/plain": [
       "    page                                               text          narrator\n",
       "0      1  I sit down alone at the appointed table and ta...        Bill Hardy\n",
       "1      2  I plunged for the last time. The few remaining...       Oscar Mills\n",
       "2      3  At my meeting with Clement yesterday, he had b...       John Walker\n",
       "3      4  And I really think I would have preferred the ...        Bill Hardy\n",
       "4      5  I hated my eye for being caught by what didn’t...     May Doncaster\n",
       "..   ...                                                ...               ...\n",
       "95    96  Now I think I will try a cup of what they inso...        Bill Hardy\n",
       "96    97  To have slept and to wake right up surrounded ...       John Walker\n",
       "97    98  He stood and looked down at me; but I was not ...  Sir Paul Trinder\n",
       "98    99  And she wore a mauve love-knot on her breast, ...       Henry (dog)\n",
       "99   100  I dimly guess why the old dead so wanted this....        Bill Hardy\n",
       "\n",
       "[100 rows x 3 columns]"
      ]
     },
     "execution_count": 3,
     "metadata": {},
     "output_type": "execute_result"
    }
   ],
   "source": [
    "import json\n",
    "\n",
    "f = open(\"./data/unofficial_solution.json\")\n",
    "possible_solutions = json.load(f)\n",
    "f.close()\n",
    "\n",
    "\n",
    "def get_narrator(id):\n",
    "    for key, ids in possible_solutions.items():\n",
    "        if id in ids:\n",
    "            return key\n",
    "    return None\n",
    "\n",
    "\n",
    "df[\"narrator\"] = df[\"page\"].apply(lambda x: get_narrator(x))\n",
    "df"
   ]
  },
  {
   "cell_type": "code",
   "execution_count": null,
   "id": "de35c441-5763-4168-a7e4-d467ccc62876",
   "metadata": {},
   "outputs": [],
   "source": []
  }
 ],
 "metadata": {
  "kernelspec": {
   "display_name": "Python 3 (ipykernel)",
   "language": "python",
   "name": "python3"
  },
  "language_info": {
   "codemirror_mode": {
    "name": "ipython",
    "version": 3
   },
   "file_extension": ".py",
   "mimetype": "text/x-python",
   "name": "python",
   "nbconvert_exporter": "python",
   "pygments_lexer": "ipython3",
   "version": "3.9.18"
  }
 },
 "nbformat": 4,
 "nbformat_minor": 5
}
